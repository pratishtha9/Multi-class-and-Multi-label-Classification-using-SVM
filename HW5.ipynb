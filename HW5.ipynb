{
 "cells": [
  {
   "cell_type": "markdown",
   "metadata": {},
   "source": [
    "# Pratishtha Singh- 8927578830"
   ]
  },
  {
   "cell_type": "markdown",
   "metadata": {},
   "source": [
    "### 1. Multi-class and Multi-Label Classification Using Support Vector Machines- (a)"
   ]
  },
  {
   "cell_type": "code",
   "execution_count": 236,
   "metadata": {},
   "outputs": [],
   "source": [
    "import pandas as pd\n",
    "import numpy as np\n",
    "import seaborn as sns\n",
    "import matplotlib.pyplot as plt\n",
    "from sklearn.model_selection import train_test_split\n",
    "from sklearn.model_selection import GridSearchCV\n",
    "from sklearn.model_selection import cross_val_score\n",
    "import warnings\n",
    "warnings.filterwarnings(action='ignore')\n",
    "from sklearn import svm\n",
    "from sklearn.metrics import hamming_loss\n",
    "from sklearn.metrics import accuracy_score\n",
    "df=pd.read_csv(\"Frogs_MFCCs.csv\")\n",
    "df['Family']=df['Family'].map({'Bufonidae':'0','Dendrobatidae':'1','Hylidae':'2','Leptodactylidae':'3'})\n",
    "df['Genus']=df['Genus'].map({'Adenomera':'0','Ameerega':'1','Dendropsophus':'2','Hypsiboas':'3','Leptodactylus':'4',\n",
    "                             'Osteocephalus':'5','Rhinella':'6','Scinax':'7'})\n",
    "df['Species']=df['Species'].map({'AdenomeraAndre':'0','AdenomeraHylaedactylus':'1','Ameeregatrivittata':'2','HylaMinuta':'3',\n",
    "                                'HypsiboasCinerascens':'4','HypsiboasCordobae':'5','LeptodactylusFuscus':'6',\n",
    "                                 'OsteocephalusOophagus':'7','Rhinellagranulosa':'8','ScinaxRuber':'9'})\n",
    "data_x=df.iloc[:,:22]\n",
    "data_y=df.iloc[:,22:25]\n",
    "x_train, x_test, y_train, y_test=train_test_split(data_x, data_y, test_size=0.3)"
   ]
  },
  {
   "cell_type": "markdown",
   "metadata": {},
   "source": [
    "### 1. Multi-class and Multi-Label Classification Using Support Vector Machines- (b) (i)"
   ]
  },
  {
   "cell_type": "markdown",
   "metadata": {},
   "source": [
    "Hamming Loss is the fraction of labels incorrectly predicted.\n",
    "\n",
    "Exact Match is used to find the subset accuracy in multilabel classification. The set of labels predicted for a sample must exactly match the corresponding set of labels in y_test"
   ]
  },
  {
   "cell_type": "markdown",
   "metadata": {},
   "source": [
    "Over here for solving the multilabel problem I have used the Binary Relevance method of Problem Transformation, i.e., I have divided the multi label problem into seperate single label problems.\n"
   ]
  },
  {
   "cell_type": "markdown",
   "metadata": {},
   "source": [
    "### Multi-class and Multi-Label Classification Using Support Vector Machines- (b) (ii)"
   ]
  },
  {
   "cell_type": "code",
   "execution_count": 2,
   "metadata": {},
   "outputs": [
    {
     "name": "stdout",
     "output_type": "stream",
     "text": [
      "{'C': 100.0, 'gamma': 2.0}\n"
     ]
    }
   ],
   "source": [
    "c = np.logspace(-4, 4, 9)    #weight of the SVM penalty\n",
    "gam=np.linspace(0.01,2,9)    #width of the Gaussian Kernel\n",
    "tuned_parameters = [{'gamma': gam,'C': c}]\n",
    "svm_model=svm.SVC(kernel='rbf')   #Gaussian Radial Kernel-Radial Basis Function\n",
    "gscv = GridSearchCV(svm_model, tuned_parameters, cv=10, n_jobs=-1)    #n_jobs for parallel processing \n",
    "gscv.fit(x_train,y_train['Family'])\n",
    "print(gscv.best_params_)"
   ]
  },
  {
   "cell_type": "markdown",
   "metadata": {},
   "source": [
    "reference from https://scikit-learn.org/stable/auto_examples/model_selection/plot_grid_search_digits.html"
   ]
  },
  {
   "cell_type": "code",
   "execution_count": 3,
   "metadata": {},
   "outputs": [
    {
     "name": "stdout",
     "output_type": "stream",
     "text": [
      "Hamming Loss with Family label= 0.004631773969430292\n",
      "Exact Match Score with Family label= 0.9953682260305697\n"
     ]
    }
   ],
   "source": [
    "clf=svm.SVC(C=10,gamma=2)\n",
    "clf.fit(x_train,y_train['Family'])\n",
    "y_pred1=clf.predict(x_test)\n",
    "hl=hamming_loss(y_test['Family'], y_pred1)\n",
    "ac=accuracy_score(y_test['Family'], y_pred1)\n",
    "print(\"Hamming Loss with Family label=\",hl)\n",
    "print(\"Exact Match Score with Family label=\",ac)"
   ]
  },
  {
   "cell_type": "code",
   "execution_count": 4,
   "metadata": {
    "scrolled": true
   },
   "outputs": [
    {
     "name": "stdout",
     "output_type": "stream",
     "text": [
      "0.619 (+/-0.002) for {'C': 0.0001, 'gamma': 0.01}\n",
      "0.619 (+/-0.002) for {'C': 0.0001, 'gamma': 0.25875}\n",
      "0.619 (+/-0.002) for {'C': 0.0001, 'gamma': 0.5075}\n",
      "0.619 (+/-0.002) for {'C': 0.0001, 'gamma': 0.75625}\n",
      "0.619 (+/-0.002) for {'C': 0.0001, 'gamma': 1.005}\n",
      "0.619 (+/-0.002) for {'C': 0.0001, 'gamma': 1.25375}\n",
      "0.619 (+/-0.002) for {'C': 0.0001, 'gamma': 1.5025}\n",
      "0.619 (+/-0.002) for {'C': 0.0001, 'gamma': 1.75125}\n",
      "0.619 (+/-0.002) for {'C': 0.0001, 'gamma': 2.0}\n",
      "0.619 (+/-0.002) for {'C': 0.001, 'gamma': 0.01}\n",
      "0.619 (+/-0.002) for {'C': 0.001, 'gamma': 0.25875}\n",
      "0.619 (+/-0.002) for {'C': 0.001, 'gamma': 0.5075}\n",
      "0.619 (+/-0.002) for {'C': 0.001, 'gamma': 0.75625}\n",
      "0.619 (+/-0.002) for {'C': 0.001, 'gamma': 1.005}\n",
      "0.619 (+/-0.002) for {'C': 0.001, 'gamma': 1.25375}\n",
      "0.619 (+/-0.002) for {'C': 0.001, 'gamma': 1.5025}\n",
      "0.619 (+/-0.002) for {'C': 0.001, 'gamma': 1.75125}\n",
      "0.619 (+/-0.002) for {'C': 0.001, 'gamma': 2.0}\n",
      "0.619 (+/-0.002) for {'C': 0.01, 'gamma': 0.01}\n",
      "0.823 (+/-0.025) for {'C': 0.01, 'gamma': 0.25875}\n",
      "0.829 (+/-0.016) for {'C': 0.01, 'gamma': 0.5075}\n",
      "0.844 (+/-0.020) for {'C': 0.01, 'gamma': 0.75625}\n",
      "0.864 (+/-0.021) for {'C': 0.01, 'gamma': 1.005}\n",
      "0.870 (+/-0.020) for {'C': 0.01, 'gamma': 1.25375}\n",
      "0.873 (+/-0.018) for {'C': 0.01, 'gamma': 1.5025}\n",
      "0.872 (+/-0.015) for {'C': 0.01, 'gamma': 1.75125}\n",
      "0.871 (+/-0.015) for {'C': 0.01, 'gamma': 2.0}\n",
      "0.626 (+/-0.004) for {'C': 0.1, 'gamma': 0.01}\n",
      "0.935 (+/-0.019) for {'C': 0.1, 'gamma': 0.25875}\n",
      "0.949 (+/-0.015) for {'C': 0.1, 'gamma': 0.5075}\n",
      "0.955 (+/-0.017) for {'C': 0.1, 'gamma': 0.75625}\n",
      "0.962 (+/-0.014) for {'C': 0.1, 'gamma': 1.005}\n",
      "0.965 (+/-0.015) for {'C': 0.1, 'gamma': 1.25375}\n",
      "0.968 (+/-0.015) for {'C': 0.1, 'gamma': 1.5025}\n",
      "0.970 (+/-0.016) for {'C': 0.1, 'gamma': 1.75125}\n",
      "0.971 (+/-0.014) for {'C': 0.1, 'gamma': 2.0}\n",
      "0.864 (+/-0.027) for {'C': 1.0, 'gamma': 0.01}\n",
      "0.963 (+/-0.015) for {'C': 1.0, 'gamma': 0.25875}\n",
      "0.973 (+/-0.015) for {'C': 1.0, 'gamma': 0.5075}\n",
      "0.983 (+/-0.017) for {'C': 1.0, 'gamma': 0.75625}\n",
      "0.985 (+/-0.014) for {'C': 1.0, 'gamma': 1.005}\n",
      "0.987 (+/-0.012) for {'C': 1.0, 'gamma': 1.25375}\n",
      "0.989 (+/-0.011) for {'C': 1.0, 'gamma': 1.5025}\n",
      "0.990 (+/-0.012) for {'C': 1.0, 'gamma': 1.75125}\n",
      "0.990 (+/-0.012) for {'C': 1.0, 'gamma': 2.0}\n",
      "0.932 (+/-0.022) for {'C': 10.0, 'gamma': 0.01}\n",
      "0.982 (+/-0.018) for {'C': 10.0, 'gamma': 0.25875}\n",
      "0.987 (+/-0.013) for {'C': 10.0, 'gamma': 0.5075}\n",
      "0.990 (+/-0.010) for {'C': 10.0, 'gamma': 0.75625}\n",
      "0.992 (+/-0.009) for {'C': 10.0, 'gamma': 1.005}\n",
      "0.992 (+/-0.009) for {'C': 10.0, 'gamma': 1.25375}\n",
      "0.992 (+/-0.009) for {'C': 10.0, 'gamma': 1.5025}\n",
      "0.992 (+/-0.009) for {'C': 10.0, 'gamma': 1.75125}\n",
      "0.993 (+/-0.008) for {'C': 10.0, 'gamma': 2.0}\n",
      "0.950 (+/-0.021) for {'C': 100.0, 'gamma': 0.01}\n",
      "0.988 (+/-0.013) for {'C': 100.0, 'gamma': 0.25875}\n",
      "0.991 (+/-0.009) for {'C': 100.0, 'gamma': 0.5075}\n",
      "0.991 (+/-0.007) for {'C': 100.0, 'gamma': 0.75625}\n",
      "0.991 (+/-0.006) for {'C': 100.0, 'gamma': 1.005}\n",
      "0.992 (+/-0.006) for {'C': 100.0, 'gamma': 1.25375}\n",
      "0.992 (+/-0.008) for {'C': 100.0, 'gamma': 1.5025}\n",
      "0.992 (+/-0.009) for {'C': 100.0, 'gamma': 1.75125}\n",
      "0.993 (+/-0.007) for {'C': 100.0, 'gamma': 2.0}\n",
      "0.970 (+/-0.016) for {'C': 1000.0, 'gamma': 0.01}\n",
      "0.990 (+/-0.009) for {'C': 1000.0, 'gamma': 0.25875}\n",
      "0.990 (+/-0.008) for {'C': 1000.0, 'gamma': 0.5075}\n",
      "0.991 (+/-0.008) for {'C': 1000.0, 'gamma': 0.75625}\n",
      "0.991 (+/-0.007) for {'C': 1000.0, 'gamma': 1.005}\n",
      "0.992 (+/-0.007) for {'C': 1000.0, 'gamma': 1.25375}\n",
      "0.992 (+/-0.008) for {'C': 1000.0, 'gamma': 1.5025}\n",
      "0.992 (+/-0.009) for {'C': 1000.0, 'gamma': 1.75125}\n",
      "0.993 (+/-0.007) for {'C': 1000.0, 'gamma': 2.0}\n",
      "0.982 (+/-0.016) for {'C': 10000.0, 'gamma': 0.01}\n",
      "0.989 (+/-0.009) for {'C': 10000.0, 'gamma': 0.25875}\n",
      "0.990 (+/-0.008) for {'C': 10000.0, 'gamma': 0.5075}\n",
      "0.991 (+/-0.008) for {'C': 10000.0, 'gamma': 0.75625}\n",
      "0.991 (+/-0.007) for {'C': 10000.0, 'gamma': 1.005}\n",
      "0.992 (+/-0.007) for {'C': 10000.0, 'gamma': 1.25375}\n",
      "0.992 (+/-0.008) for {'C': 10000.0, 'gamma': 1.5025}\n",
      "0.992 (+/-0.009) for {'C': 10000.0, 'gamma': 1.75125}\n",
      "0.993 (+/-0.007) for {'C': 10000.0, 'gamma': 2.0}\n"
     ]
    }
   ],
   "source": [
    "means = gscv.cv_results_['mean_test_score']\n",
    "stds = gscv.cv_results_['std_test_score']\n",
    "for mean, std, params in zip(means, stds, gscv.cv_results_['params']):\n",
    "    print(\"%0.3f (+/-%0.03f) for %r\"% (mean, std * 2, params))"
   ]
  },
  {
   "cell_type": "code",
   "execution_count": 5,
   "metadata": {},
   "outputs": [
    {
     "name": "stdout",
     "output_type": "stream",
     "text": [
      "              precision    recall  f1-score   support\n",
      "\n",
      "           0       1.00      0.83      0.90        23\n",
      "           1       1.00      1.00      1.00       177\n",
      "           2       0.99      1.00      0.99       655\n",
      "           3       1.00      1.00      1.00      1304\n",
      "\n",
      "    accuracy                           1.00      2159\n",
      "   macro avg       1.00      0.95      0.97      2159\n",
      "weighted avg       1.00      1.00      1.00      2159\n",
      "\n"
     ]
    }
   ],
   "source": [
    "from sklearn.metrics import classification_report\n",
    "print(classification_report(y_test['Family'], y_pred1))"
   ]
  },
  {
   "cell_type": "code",
   "execution_count": 6,
   "metadata": {},
   "outputs": [
    {
     "name": "stdout",
     "output_type": "stream",
     "text": [
      "{'C': 10.0, 'gamma': 1.25375}\n"
     ]
    }
   ],
   "source": [
    "c = np.logspace(-4, 4, 9)\n",
    "gam=np.linspace(0.01,2,9)\n",
    "tuned_parameters = [{'gamma': gam,'C': c}]\n",
    "svm_model=svm.SVC(kernel='rbf')   #Gaussian Radial Kernel-Radial Basis Function\n",
    "gscv = GridSearchCV(svm_model, tuned_parameters, cv=10, n_jobs=-1)    #n_jobs for parallel processing \n",
    "gscv.fit(x_train,y_train['Genus'])\n",
    "print(gscv.best_params_)"
   ]
  },
  {
   "cell_type": "code",
   "execution_count": 7,
   "metadata": {},
   "outputs": [
    {
     "name": "stdout",
     "output_type": "stream",
     "text": [
      "Hamming Loss with Genus label= 0.007874015748031496\n",
      "Exact Match Score with Genus label= 0.9921259842519685\n"
     ]
    }
   ],
   "source": [
    "clf=svm.SVC(C=100,gamma=1.5025)\n",
    "clf.fit(x_train,y_train['Genus'])\n",
    "y_pred2=clf.predict(x_test)\n",
    "hl=hamming_loss(y_test['Genus'], y_pred2)\n",
    "ac=accuracy_score(y_test['Genus'], y_pred2)\n",
    "print(\"Hamming Loss with Genus label=\",hl)\n",
    "print(\"Exact Match Score with Genus label=\",ac)"
   ]
  },
  {
   "cell_type": "code",
   "execution_count": 8,
   "metadata": {},
   "outputs": [
    {
     "name": "stdout",
     "output_type": "stream",
     "text": [
      "0.580 (+/-0.005) for {'C': 0.0001, 'gamma': 0.01}\n",
      "0.580 (+/-0.005) for {'C': 0.0001, 'gamma': 0.25875}\n",
      "0.580 (+/-0.005) for {'C': 0.0001, 'gamma': 0.5075}\n",
      "0.580 (+/-0.005) for {'C': 0.0001, 'gamma': 0.75625}\n",
      "0.580 (+/-0.005) for {'C': 0.0001, 'gamma': 1.005}\n",
      "0.580 (+/-0.005) for {'C': 0.0001, 'gamma': 1.25375}\n",
      "0.580 (+/-0.005) for {'C': 0.0001, 'gamma': 1.5025}\n",
      "0.580 (+/-0.005) for {'C': 0.0001, 'gamma': 1.75125}\n",
      "0.580 (+/-0.005) for {'C': 0.0001, 'gamma': 2.0}\n",
      "0.580 (+/-0.005) for {'C': 0.001, 'gamma': 0.01}\n",
      "0.580 (+/-0.005) for {'C': 0.001, 'gamma': 0.25875}\n",
      "0.580 (+/-0.005) for {'C': 0.001, 'gamma': 0.5075}\n",
      "0.580 (+/-0.005) for {'C': 0.001, 'gamma': 0.75625}\n",
      "0.580 (+/-0.005) for {'C': 0.001, 'gamma': 1.005}\n",
      "0.580 (+/-0.005) for {'C': 0.001, 'gamma': 1.25375}\n",
      "0.580 (+/-0.005) for {'C': 0.001, 'gamma': 1.5025}\n",
      "0.580 (+/-0.005) for {'C': 0.001, 'gamma': 1.75125}\n",
      "0.580 (+/-0.005) for {'C': 0.001, 'gamma': 2.0}\n",
      "0.580 (+/-0.005) for {'C': 0.01, 'gamma': 0.01}\n",
      "0.684 (+/-0.028) for {'C': 0.01, 'gamma': 0.25875}\n",
      "0.791 (+/-0.011) for {'C': 0.01, 'gamma': 0.5075}\n",
      "0.792 (+/-0.011) for {'C': 0.01, 'gamma': 0.75625}\n",
      "0.791 (+/-0.011) for {'C': 0.01, 'gamma': 1.005}\n",
      "0.790 (+/-0.011) for {'C': 0.01, 'gamma': 1.25375}\n",
      "0.791 (+/-0.014) for {'C': 0.01, 'gamma': 1.5025}\n",
      "0.796 (+/-0.018) for {'C': 0.01, 'gamma': 1.75125}\n",
      "0.798 (+/-0.016) for {'C': 0.01, 'gamma': 2.0}\n",
      "0.580 (+/-0.004) for {'C': 0.1, 'gamma': 0.01}\n",
      "0.894 (+/-0.014) for {'C': 0.1, 'gamma': 0.25875}\n",
      "0.918 (+/-0.014) for {'C': 0.1, 'gamma': 0.5075}\n",
      "0.927 (+/-0.017) for {'C': 0.1, 'gamma': 0.75625}\n",
      "0.935 (+/-0.019) for {'C': 0.1, 'gamma': 1.005}\n",
      "0.938 (+/-0.020) for {'C': 0.1, 'gamma': 1.25375}\n",
      "0.943 (+/-0.019) for {'C': 0.1, 'gamma': 1.5025}\n",
      "0.946 (+/-0.019) for {'C': 0.1, 'gamma': 1.75125}\n",
      "0.947 (+/-0.017) for {'C': 0.1, 'gamma': 2.0}\n",
      "0.801 (+/-0.013) for {'C': 1.0, 'gamma': 0.01}\n",
      "0.953 (+/-0.015) for {'C': 1.0, 'gamma': 0.25875}\n",
      "0.972 (+/-0.015) for {'C': 1.0, 'gamma': 0.5075}\n",
      "0.979 (+/-0.016) for {'C': 1.0, 'gamma': 0.75625}\n",
      "0.984 (+/-0.013) for {'C': 1.0, 'gamma': 1.005}\n",
      "0.986 (+/-0.013) for {'C': 1.0, 'gamma': 1.25375}\n",
      "0.988 (+/-0.011) for {'C': 1.0, 'gamma': 1.5025}\n",
      "0.988 (+/-0.011) for {'C': 1.0, 'gamma': 1.75125}\n",
      "0.989 (+/-0.011) for {'C': 1.0, 'gamma': 2.0}\n",
      "0.930 (+/-0.011) for {'C': 10.0, 'gamma': 0.01}\n",
      "0.983 (+/-0.014) for {'C': 10.0, 'gamma': 0.25875}\n",
      "0.987 (+/-0.012) for {'C': 10.0, 'gamma': 0.5075}\n",
      "0.989 (+/-0.011) for {'C': 10.0, 'gamma': 0.75625}\n",
      "0.990 (+/-0.008) for {'C': 10.0, 'gamma': 1.005}\n",
      "0.991 (+/-0.008) for {'C': 10.0, 'gamma': 1.25375}\n",
      "0.990 (+/-0.009) for {'C': 10.0, 'gamma': 1.5025}\n",
      "0.990 (+/-0.008) for {'C': 10.0, 'gamma': 1.75125}\n",
      "0.990 (+/-0.008) for {'C': 10.0, 'gamma': 2.0}\n",
      "0.958 (+/-0.014) for {'C': 100.0, 'gamma': 0.01}\n",
      "0.989 (+/-0.011) for {'C': 100.0, 'gamma': 0.25875}\n",
      "0.988 (+/-0.008) for {'C': 100.0, 'gamma': 0.5075}\n",
      "0.989 (+/-0.006) for {'C': 100.0, 'gamma': 0.75625}\n",
      "0.989 (+/-0.007) for {'C': 100.0, 'gamma': 1.005}\n",
      "0.990 (+/-0.006) for {'C': 100.0, 'gamma': 1.25375}\n",
      "0.989 (+/-0.006) for {'C': 100.0, 'gamma': 1.5025}\n",
      "0.990 (+/-0.004) for {'C': 100.0, 'gamma': 1.75125}\n",
      "0.991 (+/-0.005) for {'C': 100.0, 'gamma': 2.0}\n",
      "0.974 (+/-0.015) for {'C': 1000.0, 'gamma': 0.01}\n",
      "0.987 (+/-0.009) for {'C': 1000.0, 'gamma': 0.25875}\n",
      "0.988 (+/-0.009) for {'C': 1000.0, 'gamma': 0.5075}\n",
      "0.989 (+/-0.006) for {'C': 1000.0, 'gamma': 0.75625}\n",
      "0.989 (+/-0.007) for {'C': 1000.0, 'gamma': 1.005}\n",
      "0.990 (+/-0.006) for {'C': 1000.0, 'gamma': 1.25375}\n",
      "0.989 (+/-0.006) for {'C': 1000.0, 'gamma': 1.5025}\n",
      "0.990 (+/-0.004) for {'C': 1000.0, 'gamma': 1.75125}\n",
      "0.991 (+/-0.005) for {'C': 1000.0, 'gamma': 2.0}\n",
      "0.983 (+/-0.017) for {'C': 10000.0, 'gamma': 0.01}\n",
      "0.987 (+/-0.009) for {'C': 10000.0, 'gamma': 0.25875}\n",
      "0.988 (+/-0.009) for {'C': 10000.0, 'gamma': 0.5075}\n",
      "0.989 (+/-0.006) for {'C': 10000.0, 'gamma': 0.75625}\n",
      "0.989 (+/-0.007) for {'C': 10000.0, 'gamma': 1.005}\n",
      "0.990 (+/-0.006) for {'C': 10000.0, 'gamma': 1.25375}\n",
      "0.989 (+/-0.006) for {'C': 10000.0, 'gamma': 1.5025}\n",
      "0.990 (+/-0.004) for {'C': 10000.0, 'gamma': 1.75125}\n",
      "0.991 (+/-0.005) for {'C': 10000.0, 'gamma': 2.0}\n"
     ]
    }
   ],
   "source": [
    "means = gscv.cv_results_['mean_test_score']\n",
    "stds = gscv.cv_results_['std_test_score']\n",
    "for mean, std, params in zip(means, stds, gscv.cv_results_['params']):\n",
    "    print(\"%0.3f (+/-%0.03f) for %r\"% (mean, std * 2, params))"
   ]
  },
  {
   "cell_type": "code",
   "execution_count": 9,
   "metadata": {},
   "outputs": [
    {
     "name": "stdout",
     "output_type": "stream",
     "text": [
      "              precision    recall  f1-score   support\n",
      "\n",
      "           0       1.00      1.00      1.00      1230\n",
      "           1       1.00      0.99      1.00       177\n",
      "           2       0.96      0.97      0.97       101\n",
      "           3       0.99      0.99      0.99       481\n",
      "           4       0.99      0.99      0.99        74\n",
      "           5       0.94      0.94      0.94        35\n",
      "           6       1.00      0.83      0.90        23\n",
      "           7       1.00      0.97      0.99        38\n",
      "\n",
      "    accuracy                           0.99      2159\n",
      "   macro avg       0.98      0.96      0.97      2159\n",
      "weighted avg       0.99      0.99      0.99      2159\n",
      "\n"
     ]
    }
   ],
   "source": [
    "print(classification_report(y_test['Genus'], y_pred2))"
   ]
  },
  {
   "cell_type": "code",
   "execution_count": 10,
   "metadata": {},
   "outputs": [
    {
     "name": "stdout",
     "output_type": "stream",
     "text": [
      "{'C': 10.0, 'gamma': 1.25375}\n"
     ]
    }
   ],
   "source": [
    "c = np.logspace(-4, 4, 9)\n",
    "gam=np.linspace(0.01,2,9)\n",
    "tuned_parameters = [{'gamma': gam,'C': c}]\n",
    "svm_model=svm.SVC(kernel='rbf')   #Gaussian Radial Kernel-Radial Basis Function\n",
    "gscv = GridSearchCV(svm_model, tuned_parameters, cv=10, n_jobs=-1)    #n_jobs for parallel processing \n",
    "gscv.fit(x_train,y_train['Species'])\n",
    "print(gscv.best_params_)"
   ]
  },
  {
   "cell_type": "code",
   "execution_count": 11,
   "metadata": {},
   "outputs": [
    {
     "name": "stdout",
     "output_type": "stream",
     "text": [
      "Hamming Loss with Species label= 0.006947660954145438\n",
      "Exact Match Score with Species label= 0.9930523390458545\n"
     ]
    }
   ],
   "source": [
    "clf=svm.SVC(C=10,gamma=2)\n",
    "clf.fit(x_train,y_train['Species'])\n",
    "y_pred3=clf.predict(x_test)\n",
    "hl=hamming_loss(y_test['Species'], y_pred3)\n",
    "ac=accuracy_score(y_test['Species'], y_pred3)\n",
    "print(\"Hamming Loss with Species label=\",hl)\n",
    "print(\"Exact Match Score with Species label=\",ac)"
   ]
  },
  {
   "cell_type": "code",
   "execution_count": 12,
   "metadata": {},
   "outputs": [
    {
     "name": "stdout",
     "output_type": "stream",
     "text": [
      "0.489 (+/-0.005) for {'C': 0.0001, 'gamma': 0.01}\n",
      "0.489 (+/-0.005) for {'C': 0.0001, 'gamma': 0.25875}\n",
      "0.489 (+/-0.005) for {'C': 0.0001, 'gamma': 0.5075}\n",
      "0.489 (+/-0.005) for {'C': 0.0001, 'gamma': 0.75625}\n",
      "0.489 (+/-0.005) for {'C': 0.0001, 'gamma': 1.005}\n",
      "0.489 (+/-0.005) for {'C': 0.0001, 'gamma': 1.25375}\n",
      "0.489 (+/-0.005) for {'C': 0.0001, 'gamma': 1.5025}\n",
      "0.489 (+/-0.005) for {'C': 0.0001, 'gamma': 1.75125}\n",
      "0.489 (+/-0.005) for {'C': 0.0001, 'gamma': 2.0}\n",
      "0.489 (+/-0.005) for {'C': 0.001, 'gamma': 0.01}\n",
      "0.489 (+/-0.005) for {'C': 0.001, 'gamma': 0.25875}\n",
      "0.489 (+/-0.005) for {'C': 0.001, 'gamma': 0.5075}\n",
      "0.489 (+/-0.005) for {'C': 0.001, 'gamma': 0.75625}\n",
      "0.489 (+/-0.005) for {'C': 0.001, 'gamma': 1.005}\n",
      "0.489 (+/-0.005) for {'C': 0.001, 'gamma': 1.25375}\n",
      "0.489 (+/-0.005) for {'C': 0.001, 'gamma': 1.5025}\n",
      "0.489 (+/-0.005) for {'C': 0.001, 'gamma': 1.75125}\n",
      "0.489 (+/-0.005) for {'C': 0.001, 'gamma': 2.0}\n",
      "0.489 (+/-0.005) for {'C': 0.01, 'gamma': 0.01}\n",
      "0.642 (+/-0.009) for {'C': 0.01, 'gamma': 0.25875}\n",
      "0.775 (+/-0.020) for {'C': 0.01, 'gamma': 0.5075}\n",
      "0.817 (+/-0.020) for {'C': 0.01, 'gamma': 0.75625}\n",
      "0.835 (+/-0.016) for {'C': 0.01, 'gamma': 1.005}\n",
      "0.844 (+/-0.016) for {'C': 0.01, 'gamma': 1.25375}\n",
      "0.850 (+/-0.016) for {'C': 0.01, 'gamma': 1.5025}\n",
      "0.852 (+/-0.016) for {'C': 0.01, 'gamma': 1.75125}\n",
      "0.851 (+/-0.016) for {'C': 0.01, 'gamma': 2.0}\n",
      "0.499 (+/-0.007) for {'C': 0.1, 'gamma': 0.01}\n",
      "0.897 (+/-0.015) for {'C': 0.1, 'gamma': 0.25875}\n",
      "0.924 (+/-0.022) for {'C': 0.1, 'gamma': 0.5075}\n",
      "0.931 (+/-0.023) for {'C': 0.1, 'gamma': 0.75625}\n",
      "0.939 (+/-0.022) for {'C': 0.1, 'gamma': 1.005}\n",
      "0.944 (+/-0.020) for {'C': 0.1, 'gamma': 1.25375}\n",
      "0.947 (+/-0.019) for {'C': 0.1, 'gamma': 1.5025}\n",
      "0.950 (+/-0.019) for {'C': 0.1, 'gamma': 1.75125}\n",
      "0.954 (+/-0.019) for {'C': 0.1, 'gamma': 2.0}\n",
      "0.846 (+/-0.018) for {'C': 1.0, 'gamma': 0.01}\n",
      "0.964 (+/-0.016) for {'C': 1.0, 'gamma': 0.25875}\n",
      "0.975 (+/-0.012) for {'C': 1.0, 'gamma': 0.5075}\n",
      "0.982 (+/-0.011) for {'C': 1.0, 'gamma': 0.75625}\n",
      "0.985 (+/-0.012) for {'C': 1.0, 'gamma': 1.005}\n",
      "0.986 (+/-0.011) for {'C': 1.0, 'gamma': 1.25375}\n",
      "0.987 (+/-0.011) for {'C': 1.0, 'gamma': 1.5025}\n",
      "0.988 (+/-0.009) for {'C': 1.0, 'gamma': 1.75125}\n",
      "0.989 (+/-0.010) for {'C': 1.0, 'gamma': 2.0}\n",
      "0.939 (+/-0.017) for {'C': 10.0, 'gamma': 0.01}\n",
      "0.985 (+/-0.015) for {'C': 10.0, 'gamma': 0.25875}\n",
      "0.989 (+/-0.011) for {'C': 10.0, 'gamma': 0.5075}\n",
      "0.990 (+/-0.011) for {'C': 10.0, 'gamma': 0.75625}\n",
      "0.990 (+/-0.008) for {'C': 10.0, 'gamma': 1.005}\n",
      "0.990 (+/-0.008) for {'C': 10.0, 'gamma': 1.25375}\n",
      "0.990 (+/-0.009) for {'C': 10.0, 'gamma': 1.5025}\n",
      "0.990 (+/-0.007) for {'C': 10.0, 'gamma': 1.75125}\n",
      "0.990 (+/-0.007) for {'C': 10.0, 'gamma': 2.0}\n",
      "0.972 (+/-0.013) for {'C': 100.0, 'gamma': 0.01}\n",
      "0.989 (+/-0.011) for {'C': 100.0, 'gamma': 0.25875}\n",
      "0.988 (+/-0.009) for {'C': 100.0, 'gamma': 0.5075}\n",
      "0.989 (+/-0.007) for {'C': 100.0, 'gamma': 0.75625}\n",
      "0.989 (+/-0.007) for {'C': 100.0, 'gamma': 1.005}\n",
      "0.989 (+/-0.008) for {'C': 100.0, 'gamma': 1.25375}\n",
      "0.989 (+/-0.007) for {'C': 100.0, 'gamma': 1.5025}\n",
      "0.990 (+/-0.007) for {'C': 100.0, 'gamma': 1.75125}\n",
      "0.990 (+/-0.007) for {'C': 100.0, 'gamma': 2.0}\n",
      "0.980 (+/-0.016) for {'C': 1000.0, 'gamma': 0.01}\n",
      "0.988 (+/-0.009) for {'C': 1000.0, 'gamma': 0.25875}\n",
      "0.988 (+/-0.010) for {'C': 1000.0, 'gamma': 0.5075}\n",
      "0.989 (+/-0.008) for {'C': 1000.0, 'gamma': 0.75625}\n",
      "0.989 (+/-0.007) for {'C': 1000.0, 'gamma': 1.005}\n",
      "0.989 (+/-0.008) for {'C': 1000.0, 'gamma': 1.25375}\n",
      "0.989 (+/-0.007) for {'C': 1000.0, 'gamma': 1.5025}\n",
      "0.990 (+/-0.007) for {'C': 1000.0, 'gamma': 1.75125}\n",
      "0.990 (+/-0.007) for {'C': 1000.0, 'gamma': 2.0}\n",
      "0.983 (+/-0.012) for {'C': 10000.0, 'gamma': 0.01}\n",
      "0.988 (+/-0.009) for {'C': 10000.0, 'gamma': 0.25875}\n",
      "0.988 (+/-0.010) for {'C': 10000.0, 'gamma': 0.5075}\n",
      "0.989 (+/-0.008) for {'C': 10000.0, 'gamma': 0.75625}\n",
      "0.989 (+/-0.007) for {'C': 10000.0, 'gamma': 1.005}\n",
      "0.989 (+/-0.008) for {'C': 10000.0, 'gamma': 1.25375}\n",
      "0.989 (+/-0.007) for {'C': 10000.0, 'gamma': 1.5025}\n",
      "0.990 (+/-0.007) for {'C': 10000.0, 'gamma': 1.75125}\n",
      "0.990 (+/-0.007) for {'C': 10000.0, 'gamma': 2.0}\n"
     ]
    }
   ],
   "source": [
    "means = gscv.cv_results_['mean_test_score']\n",
    "stds = gscv.cv_results_['std_test_score']\n",
    "for mean, std, params in zip(means, stds, gscv.cv_results_['params']):\n",
    "    print(\"%0.3f (+/-%0.03f) for %r\"% (mean, std * 2, params))"
   ]
  },
  {
   "cell_type": "code",
   "execution_count": 13,
   "metadata": {},
   "outputs": [
    {
     "name": "stdout",
     "output_type": "stream",
     "text": [
      "              precision    recall  f1-score   support\n",
      "\n",
      "           0       0.99      1.00      0.99       216\n",
      "           1       1.00      1.00      1.00      1014\n",
      "           2       1.00      0.99      1.00       177\n",
      "           3       0.97      0.98      0.98       101\n",
      "           4       0.99      0.99      0.99       158\n",
      "           5       0.99      1.00      0.99       323\n",
      "           6       1.00      0.99      0.99        74\n",
      "           7       0.97      0.94      0.96        35\n",
      "           8       1.00      0.83      0.90        23\n",
      "           9       0.97      0.97      0.97        38\n",
      "\n",
      "    accuracy                           0.99      2159\n",
      "   macro avg       0.99      0.97      0.98      2159\n",
      "weighted avg       0.99      0.99      0.99      2159\n",
      "\n"
     ]
    }
   ],
   "source": [
    "print(classification_report(y_test['Species'], y_pred3))"
   ]
  },
  {
   "cell_type": "code",
   "execution_count": 14,
   "metadata": {},
   "outputs": [
    {
     "name": "stdout",
     "output_type": "stream",
     "text": [
      "Overall Hamming loss for Multilabel problem= 0.006484483557202436\n",
      "Exact Match for the Multilabel Problem= 0.9911996294580825\n"
     ]
    }
   ],
   "source": [
    "y_true1=y_test['Family']\n",
    "y_true2=y_test['Genus']\n",
    "y_true3=y_test['Species']\n",
    "pred_values=np.array(list(zip(y_pred1,y_pred2,y_pred3)))\n",
    "true_values=np.array(list(zip(y_true1,y_true2,y_true3)))\n",
    "hammin_sc=np.mean(pred_values==true_values)\n",
    "hammin_loss=1-hammin_sc\n",
    "print(\"Overall Hamming loss for Multilabel problem=\",hammin_loss)\n",
    "var=(pred_values==true_values)\n",
    "exact_match=np.mean(np.product(var,axis=1))\n",
    "print(\"Exact Match for the Multilabel Problem=\",exact_match)"
   ]
  },
  {
   "cell_type": "markdown",
   "metadata": {},
   "source": [
    "SVM:\n",
    "\n",
    "Family Label:\n",
    "\n",
    "Hamming Loss = 0.0046\n",
    "\n",
    "Exact Match Score = 0.9954\n",
    "\n",
    "Genus Label:\n",
    "\n",
    "Hamming Loss = 0.0079\n",
    "\n",
    "Exact Match Score = 0.9921\n",
    "\n",
    "Species Label:\n",
    "\n",
    "Hamming Loss = 0.0069\n",
    "\n",
    "Exact Match Score = 0.9931\n",
    "\n",
    "Overall Hamming loss for Multilabel problem= 0.0065\n",
    "\n",
    "Exact Match for the Multilabel Problem= 0.9912"
   ]
  },
  {
   "cell_type": "markdown",
   "metadata": {},
   "source": [
    "### Multi-class and Multi-Label Classification Using Support Vector Machines- (b) (iii)\n"
   ]
  },
  {
   "cell_type": "code",
   "execution_count": 15,
   "metadata": {},
   "outputs": [],
   "source": [
    "from sklearn.preprocessing import StandardScaler\n",
    "# Standardize to get zero mean and unit standard error\n",
    "scaler=StandardScaler()\n",
    "standard_train_x=scaler.fit_transform(x_train)  # fit and transform the data on the training set\n",
    "standard_test_x=scaler.transform(x_test)        # apply the transformation on the test set\n"
   ]
  },
  {
   "cell_type": "code",
   "execution_count": 16,
   "metadata": {},
   "outputs": [
    {
     "name": "stdout",
     "output_type": "stream",
     "text": [
      "{'C': 1.0}\n"
     ]
    }
   ],
   "source": [
    "C = np.logspace(-4, 4, 9)\n",
    "svm_linear_model=svm.LinearSVC(penalty='l1',dual=False)\n",
    "tuned_paramater=dict(C=C)\n",
    "gscv=GridSearchCV(svm_linear_model, tuned_paramater, cv=10, n_jobs=-1)\n",
    "gscv.fit(standard_train_x,y_train['Family'])\n",
    "print(gscv.best_params_)"
   ]
  },
  {
   "cell_type": "code",
   "execution_count": 17,
   "metadata": {},
   "outputs": [
    {
     "name": "stdout",
     "output_type": "stream",
     "text": [
      "Hamming Loss with Family label= 0.0699397869383974\n",
      "Exact Match Score with Family label= 0.9300602130616026\n"
     ]
    }
   ],
   "source": [
    "clf=svm.LinearSVC(C=1)\n",
    "clf.fit(standard_train_x,y_train['Family'])\n",
    "ypred1=clf.predict(standard_test_x)\n",
    "hl=hamming_loss(y_test['Family'], ypred1)\n",
    "ac=accuracy_score(y_test['Family'], ypred1)\n",
    "print(\"Hamming Loss with Family label=\",hl)\n",
    "print(\"Exact Match Score with Family label=\",ac)"
   ]
  },
  {
   "cell_type": "code",
   "execution_count": 18,
   "metadata": {},
   "outputs": [
    {
     "name": "stdout",
     "output_type": "stream",
     "text": [
      "0.009 (+/-0.002) for {'C': 0.0001}\n",
      "0.851 (+/-0.025) for {'C': 0.001}\n",
      "0.927 (+/-0.025) for {'C': 0.01}\n",
      "0.937 (+/-0.020) for {'C': 0.1}\n",
      "0.939 (+/-0.019) for {'C': 1.0}\n",
      "0.939 (+/-0.020) for {'C': 10.0}\n",
      "0.938 (+/-0.020) for {'C': 100.0}\n",
      "0.938 (+/-0.020) for {'C': 1000.0}\n",
      "0.938 (+/-0.020) for {'C': 10000.0}\n"
     ]
    }
   ],
   "source": [
    "means = gscv.cv_results_['mean_test_score']\n",
    "stds = gscv.cv_results_['std_test_score']\n",
    "for mean, std, params in zip(means, stds, gscv.cv_results_['params']):\n",
    "    print(\"%0.3f (+/-%0.03f) for %r\"% (mean, std * 2, params))"
   ]
  },
  {
   "cell_type": "code",
   "execution_count": 19,
   "metadata": {},
   "outputs": [
    {
     "name": "stdout",
     "output_type": "stream",
     "text": [
      "              precision    recall  f1-score   support\n",
      "\n",
      "           0       0.00      0.00      0.00        23\n",
      "           1       0.90      0.89      0.90       177\n",
      "           2       0.91      0.89      0.90       655\n",
      "           3       0.95      0.97      0.96      1304\n",
      "\n",
      "    accuracy                           0.93      2159\n",
      "   macro avg       0.69      0.69      0.69      2159\n",
      "weighted avg       0.92      0.93      0.93      2159\n",
      "\n"
     ]
    }
   ],
   "source": [
    "print(classification_report(y_test['Family'], ypred1))"
   ]
  },
  {
   "cell_type": "code",
   "execution_count": 20,
   "metadata": {},
   "outputs": [
    {
     "name": "stdout",
     "output_type": "stream",
     "text": [
      "{'C': 10.0}\n"
     ]
    }
   ],
   "source": [
    "C = np.logspace(-4, 4, 9)\n",
    "svm_linear_model=svm.LinearSVC(penalty='l1',dual=False)\n",
    "tuned_paramater=dict(C=C)\n",
    "gscv=GridSearchCV(svm_linear_model, tuned_paramater, cv=10, n_jobs=-1)\n",
    "gscv.fit(standard_train_x,y_train['Genus'])\n",
    "print(gscv.best_params_)"
   ]
  },
  {
   "cell_type": "code",
   "execution_count": 21,
   "metadata": {},
   "outputs": [
    {
     "name": "stdout",
     "output_type": "stream",
     "text": [
      "Hamming Loss with Genus label= 0.05974988420565076\n",
      "Exact Match Score with Genus label= 0.9402501157943493\n"
     ]
    }
   ],
   "source": [
    "clf=svm.LinearSVC(C=100)\n",
    "clf.fit(standard_train_x,y_train['Genus'])\n",
    "ypred2=clf.predict(standard_test_x)\n",
    "hl=hamming_loss(y_test['Genus'], ypred2)\n",
    "ac=accuracy_score(y_test['Genus'], ypred2)\n",
    "print(\"Hamming Loss with Genus label=\",hl)\n",
    "print(\"Exact Match Score with Genus label=\",ac)"
   ]
  },
  {
   "cell_type": "code",
   "execution_count": 22,
   "metadata": {},
   "outputs": [
    {
     "name": "stdout",
     "output_type": "stream",
     "text": [
      "0.580 (+/-0.005) for {'C': 0.0001}\n",
      "0.818 (+/-0.017) for {'C': 0.001}\n",
      "0.911 (+/-0.025) for {'C': 0.01}\n",
      "0.938 (+/-0.018) for {'C': 0.1}\n",
      "0.946 (+/-0.013) for {'C': 1.0}\n",
      "0.947 (+/-0.013) for {'C': 10.0}\n",
      "0.947 (+/-0.013) for {'C': 100.0}\n",
      "0.947 (+/-0.012) for {'C': 1000.0}\n",
      "0.947 (+/-0.012) for {'C': 10000.0}\n"
     ]
    }
   ],
   "source": [
    "means = gscv.cv_results_['mean_test_score']\n",
    "stds = gscv.cv_results_['std_test_score']\n",
    "for mean, std, params in zip(means, stds, gscv.cv_results_['params']):\n",
    "    print(\"%0.3f (+/-%0.03f) for %r\"% (mean, std * 2, params))"
   ]
  },
  {
   "cell_type": "code",
   "execution_count": 23,
   "metadata": {},
   "outputs": [
    {
     "name": "stdout",
     "output_type": "stream",
     "text": [
      "              precision    recall  f1-score   support\n",
      "\n",
      "           0       0.96      0.99      0.97      1230\n",
      "           1       0.90      0.85      0.87       177\n",
      "           2       0.75      0.64      0.69       101\n",
      "           3       0.93      0.97      0.95       481\n",
      "           4       0.95      0.82      0.88        74\n",
      "           5       0.95      0.57      0.71        35\n",
      "           6       0.90      0.83      0.86        23\n",
      "           7       0.97      0.92      0.95        38\n",
      "\n",
      "    accuracy                           0.94      2159\n",
      "   macro avg       0.92      0.82      0.86      2159\n",
      "weighted avg       0.94      0.94      0.94      2159\n",
      "\n"
     ]
    }
   ],
   "source": [
    "print(classification_report(y_test['Genus'], ypred2))"
   ]
  },
  {
   "cell_type": "code",
   "execution_count": 24,
   "metadata": {},
   "outputs": [
    {
     "name": "stdout",
     "output_type": "stream",
     "text": [
      "{'C': 10.0}\n"
     ]
    }
   ],
   "source": [
    "C = np.logspace(-4, 4, 9)\n",
    "svm_linear_model=svm.LinearSVC(penalty='l1',dual=False)\n",
    "tuned_paramater=dict(C=C)\n",
    "gscv=GridSearchCV(svm_linear_model, tuned_paramater, cv=10, n_jobs=-1)\n",
    "gscv.fit(standard_train_x,y_train['Species'])\n",
    "print(gscv.best_params_)"
   ]
  },
  {
   "cell_type": "code",
   "execution_count": 25,
   "metadata": {},
   "outputs": [
    {
     "name": "stdout",
     "output_type": "stream",
     "text": [
      "Hamming Loss with Species label= 0.04307549791570171\n",
      "Exact Match Score with Species label= 0.9569245020842982\n"
     ]
    }
   ],
   "source": [
    "clf=svm.LinearSVC(C=1)\n",
    "clf.fit(standard_train_x,y_train['Species'])\n",
    "ypred3=clf.predict(standard_test_x)\n",
    "hl=hamming_loss(y_test['Species'], ypred3)\n",
    "ac=accuracy_score(y_test['Species'], ypred3)\n",
    "print(\"Hamming Loss with Species label=\",hl)\n",
    "print(\"Exact Match Score with Species label=\",ac)"
   ]
  },
  {
   "cell_type": "code",
   "execution_count": 26,
   "metadata": {},
   "outputs": [
    {
     "name": "stdout",
     "output_type": "stream",
     "text": [
      "0.091 (+/-0.001) for {'C': 0.0001}\n",
      "0.780 (+/-0.022) for {'C': 0.001}\n",
      "0.912 (+/-0.025) for {'C': 0.01}\n",
      "0.948 (+/-0.019) for {'C': 0.1}\n",
      "0.957 (+/-0.013) for {'C': 1.0}\n",
      "0.958 (+/-0.013) for {'C': 10.0}\n",
      "0.958 (+/-0.013) for {'C': 100.0}\n",
      "0.958 (+/-0.013) for {'C': 1000.0}\n",
      "0.958 (+/-0.013) for {'C': 10000.0}\n"
     ]
    }
   ],
   "source": [
    "means = gscv.cv_results_['mean_test_score']\n",
    "stds = gscv.cv_results_['std_test_score']\n",
    "for mean, std, params in zip(means, stds, gscv.cv_results_['params']):\n",
    "    print(\"%0.3f (+/-%0.03f) for %r\"% (mean, std * 2, params))"
   ]
  },
  {
   "cell_type": "code",
   "execution_count": 27,
   "metadata": {},
   "outputs": [
    {
     "name": "stdout",
     "output_type": "stream",
     "text": [
      "              precision    recall  f1-score   support\n",
      "\n",
      "           0       0.94      0.94      0.94       216\n",
      "           1       0.99      1.00      0.99      1014\n",
      "           2       0.91      0.93      0.92       177\n",
      "           3       0.90      0.77      0.83       101\n",
      "           4       0.93      0.94      0.94       158\n",
      "           5       0.92      0.98      0.95       323\n",
      "           6       0.96      0.93      0.95        74\n",
      "           7       1.00      0.57      0.73        35\n",
      "           8       0.86      0.83      0.84        23\n",
      "           9       0.95      0.95      0.95        38\n",
      "\n",
      "    accuracy                           0.96      2159\n",
      "   macro avg       0.94      0.88      0.90      2159\n",
      "weighted avg       0.96      0.96      0.96      2159\n",
      "\n"
     ]
    }
   ],
   "source": [
    "print(classification_report(y_test['Species'], ypred3))"
   ]
  },
  {
   "cell_type": "code",
   "execution_count": 28,
   "metadata": {},
   "outputs": [
    {
     "name": "stdout",
     "output_type": "stream",
     "text": [
      "Overall Hamming loss for Multilabel problem= 0.05758838968658331\n",
      "Exact Match for the Multilabel Problem= 0.9018063918480778\n"
     ]
    }
   ],
   "source": [
    "pred_values=np.array(list(zip(ypred1,ypred2,ypred3)))\n",
    "true_values=np.array(list(zip(y_true1,y_true2,y_true3)))\n",
    "hammin_sc=np.mean(pred_values==true_values)\n",
    "hammin_loss=1-hammin_sc\n",
    "print(\"Overall Hamming loss for Multilabel problem=\",hammin_loss)\n",
    "var=(pred_values==true_values)\n",
    "exact_match=np.mean(np.product(var,axis=1))\n",
    "print(\"Exact Match for the Multilabel Problem=\",exact_match)"
   ]
  },
  {
   "cell_type": "markdown",
   "metadata": {},
   "source": [
    "L1-penalized SVM's:\n",
    "\n",
    "Family Label:\n",
    "\n",
    "Hamming Loss = 0.0699\n",
    "\n",
    "Exact Match Score = 0.9301\n",
    "\n",
    "Genus Label:\n",
    "\n",
    "Hamming Loss = 0.0597\n",
    "\n",
    "Exact Match Score = 0.9403\n",
    "\n",
    "Species Label:\n",
    "\n",
    "Hamming Loss = 0.0431\n",
    "\n",
    "Exact Match Score = 0.9569\n",
    "\n",
    "Overall Hamming loss for Multilabel problem= 0.0576\n",
    "\n",
    "Exact Match for the Multilabel Problem= 0.9018"
   ]
  },
  {
   "cell_type": "markdown",
   "metadata": {},
   "source": [
    "### Multi-class and Multi-Label Classification Using Support Vector Machines- (b) (iv)"
   ]
  },
  {
   "cell_type": "code",
   "execution_count": 29,
   "metadata": {},
   "outputs": [
    {
     "name": "stdout",
     "output_type": "stream",
     "text": [
      "Requirement already satisfied: imblearn in c:\\users\\pratishtha singh\\anaconda3\\lib\\site-packages (0.0)\n",
      "Requirement already satisfied: imbalanced-learn in c:\\users\\pratishtha singh\\anaconda3\\lib\\site-packages (from imblearn) (0.5.0)\n",
      "Requirement already satisfied: joblib>=0.11 in c:\\users\\pratishtha singh\\anaconda3\\lib\\site-packages (from imbalanced-learn->imblearn) (0.13.2)\n",
      "Requirement already satisfied: scipy>=0.17 in c:\\users\\pratishtha singh\\anaconda3\\lib\\site-packages (from imbalanced-learn->imblearn) (1.2.1)\n",
      "Requirement already satisfied: scikit-learn>=0.21 in c:\\users\\pratishtha singh\\anaconda3\\lib\\site-packages (from imbalanced-learn->imblearn) (0.21.2)\n",
      "Requirement already satisfied: numpy>=1.11 in c:\\users\\pratishtha singh\\anaconda3\\lib\\site-packages (from imbalanced-learn->imblearn) (1.16.4)\n"
     ]
    }
   ],
   "source": [
    "! pip install imblearn"
   ]
  },
  {
   "cell_type": "code",
   "execution_count": 30,
   "metadata": {},
   "outputs": [
    {
     "name": "stdout",
     "output_type": "stream",
     "text": [
      "Resampled dataset shape Counter({'2': 3116, '3': 3116, '1': 3116, '0': 3116})\n",
      "['2' '3' '3' ... '2' '2' '2']\n"
     ]
    },
    {
     "data": {
      "text/plain": [
       "numpy.ndarray"
      ]
     },
     "execution_count": 30,
     "metadata": {},
     "output_type": "execute_result"
    }
   ],
   "source": [
    "from collections import Counter\n",
    "from imblearn.over_sampling import SMOTE\n",
    "sm = SMOTE()\n",
    "x_resampled, y_resampled = sm.fit_resample(standard_train_x, y_train['Family'])\n",
    "print('Resampled dataset shape %s' % Counter(y_resampled))\n",
    "print(y_resampled)\n",
    "type(x_resampled)"
   ]
  },
  {
   "cell_type": "code",
   "execution_count": 31,
   "metadata": {},
   "outputs": [
    {
     "name": "stdout",
     "output_type": "stream",
     "text": [
      "{'C': 100.0}\n"
     ]
    }
   ],
   "source": [
    "C = np.logspace(-4, 4, 9)\n",
    "svm_linear_model=svm.LinearSVC(penalty='l1',dual=False)\n",
    "tuned_paramater=dict(C=C)\n",
    "gscv=GridSearchCV(svm_linear_model, tuned_paramater, cv=10, n_jobs=-1)\n",
    "gscv.fit(x_resampled,y_resampled)\n",
    "print(gscv.best_params_)"
   ]
  },
  {
   "cell_type": "code",
   "execution_count": 32,
   "metadata": {},
   "outputs": [
    {
     "name": "stdout",
     "output_type": "stream",
     "text": [
      "Hamming Loss with Family label= 0.07688744789254284\n",
      "Exact Match Score with Family label= 0.9231125521074571\n"
     ]
    }
   ],
   "source": [
    "clf=svm.LinearSVC(C=100)\n",
    "clf.fit(standard_train_x,y_train['Family'])\n",
    "y_pred11=clf.predict(standard_test_x)\n",
    "hl=hamming_loss(y_test['Family'], y_pred11)\n",
    "ac=accuracy_score(y_test['Family'], y_pred11)\n",
    "print(\"Hamming Loss with Family label=\",hl)\n",
    "print(\"Exact Match Score with Family label=\",ac)"
   ]
  },
  {
   "cell_type": "code",
   "execution_count": 33,
   "metadata": {},
   "outputs": [
    {
     "name": "stdout",
     "output_type": "stream",
     "text": [
      "Resampled dataset shape Counter({'3': 2920, '0': 2920, '4': 2920, '1': 2920, '2': 2920, '7': 2920, '5': 2920, '6': 2920})\n",
      "['3' '0' '0' ... '7' '7' '7']\n"
     ]
    },
    {
     "data": {
      "text/plain": [
       "numpy.ndarray"
      ]
     },
     "execution_count": 33,
     "metadata": {},
     "output_type": "execute_result"
    }
   ],
   "source": [
    "x_resampled, y_resampled = sm.fit_resample(standard_train_x, y_train['Genus'])\n",
    "print('Resampled dataset shape %s' % Counter(y_resampled))\n",
    "print(y_resampled)\n",
    "type(x_resampled)"
   ]
  },
  {
   "cell_type": "code",
   "execution_count": 34,
   "metadata": {},
   "outputs": [
    {
     "name": "stdout",
     "output_type": "stream",
     "text": [
      "{'C': 10.0}\n"
     ]
    }
   ],
   "source": [
    "C = np.logspace(-4, 4, 9)\n",
    "svm_linear_model=svm.LinearSVC(penalty='l1',dual=False)\n",
    "tuned_paramater=dict(C=C)\n",
    "gscv=GridSearchCV(svm_linear_model, tuned_paramater, cv=10, n_jobs=-1)\n",
    "gscv.fit(x_resampled,y_resampled)\n",
    "print(gscv.best_params_)"
   ]
  },
  {
   "cell_type": "code",
   "execution_count": 35,
   "metadata": {},
   "outputs": [
    {
     "name": "stdout",
     "output_type": "stream",
     "text": [
      "Hamming Loss with Genus label= 0.09726725335803613\n",
      "Exact Match Score with Genus label= 0.9027327466419639\n"
     ]
    }
   ],
   "source": [
    "clf=svm.LinearSVC(C=100)\n",
    "clf.fit(standard_train_x,y_train['Genus'])\n",
    "y_pred22=clf.predict(standard_test_x)\n",
    "hl=hamming_loss(y_test['Genus'], y_pred22)\n",
    "ac=accuracy_score(y_test['Genus'], y_pred22)\n",
    "print(\"Hamming Loss with Genus label=\",hl)\n",
    "print(\"Exact Match Score with Genus label=\",ac)"
   ]
  },
  {
   "cell_type": "code",
   "execution_count": 36,
   "metadata": {},
   "outputs": [
    {
     "name": "stdout",
     "output_type": "stream",
     "text": [
      "Resampled dataset shape Counter({'5': 2464, '1': 2464, '6': 2464, '2': 2464, '0': 2464, '3': 2464, '4': 2464, '9': 2464, '7': 2464, '8': 2464})\n",
      "['5' '1' '1' ... '9' '9' '9']\n"
     ]
    },
    {
     "data": {
      "text/plain": [
       "numpy.ndarray"
      ]
     },
     "execution_count": 36,
     "metadata": {},
     "output_type": "execute_result"
    }
   ],
   "source": [
    "x_resampled, y_resampled = sm.fit_resample(standard_train_x, y_train['Species'])\n",
    "print('Resampled dataset shape %s' % Counter(y_resampled))\n",
    "print(y_resampled)\n",
    "type(x_resampled)"
   ]
  },
  {
   "cell_type": "code",
   "execution_count": 37,
   "metadata": {},
   "outputs": [
    {
     "name": "stdout",
     "output_type": "stream",
     "text": [
      "{'C': 100.0}\n"
     ]
    }
   ],
   "source": [
    "C = np.logspace(-4, 4, 9)\n",
    "svm_linear_model=svm.LinearSVC(penalty='l1',dual=False)\n",
    "tuned_paramater=dict(C=C)\n",
    "gscv=GridSearchCV(svm_linear_model, tuned_paramater, cv=10, n_jobs=-1)\n",
    "gscv.fit(x_resampled,y_resampled)\n",
    "print(gscv.best_params_)"
   ]
  },
  {
   "cell_type": "code",
   "execution_count": 38,
   "metadata": {},
   "outputs": [
    {
     "name": "stdout",
     "output_type": "stream",
     "text": [
      "Hamming Loss with Species label= 0.06252894858730894\n",
      "Exact Match Score with Species label= 0.937471051412691\n"
     ]
    }
   ],
   "source": [
    "clf=svm.LinearSVC(C=100)\n",
    "clf.fit(standard_train_x,y_train['Species'])\n",
    "y_pred33=clf.predict(standard_test_x)\n",
    "hl=hamming_loss(y_test['Species'], y_pred33)\n",
    "ac=accuracy_score(y_test['Species'], y_pred33)\n",
    "print(\"Hamming Loss with Species label=\",hl)\n",
    "print(\"Exact Match Score with Species label=\",ac)"
   ]
  },
  {
   "cell_type": "code",
   "execution_count": 39,
   "metadata": {},
   "outputs": [
    {
     "name": "stdout",
     "output_type": "stream",
     "text": [
      "Overall Hamming loss for Multilabel problem= 0.07889454994596268\n",
      "Exact Match for the Multilabel Problem= 0.8360352014821677\n"
     ]
    }
   ],
   "source": [
    "pred_values=np.array(list(zip(y_pred11,y_pred22,y_pred33)))\n",
    "true_values=np.array(list(zip(y_true1,y_true2,y_true3)))\n",
    "hammin_sc=np.mean(pred_values==true_values)\n",
    "hammin_loss=1-hammin_sc\n",
    "print(\"Overall Hamming loss for Multilabel problem=\",hammin_loss)\n",
    "var=(pred_values==true_values)\n",
    "exact_match=np.mean(np.product(var,axis=1))\n",
    "print(\"Exact Match for the Multilabel Problem=\",exact_match)"
   ]
  },
  {
   "cell_type": "markdown",
   "metadata": {},
   "source": [
    "SMOTE:\n",
    "\n",
    "Family Label:\n",
    "\n",
    "Hamming Loss = 0.0769\n",
    "\n",
    "Exact Match Score = 0.9231\n",
    "\n",
    "Genus Label:\n",
    "\n",
    "Hamming Loss = 0.0973\n",
    "\n",
    "Exact Match Score = 0.9027\n",
    "\n",
    "Species Label:\n",
    "\n",
    "Hamming Loss = 0.0625\n",
    "\n",
    "Exact Match Score = 0.9375\n",
    "\n",
    "Overall Hamming loss for Multilabel problem= 0.0789\n",
    "\n",
    "Exact Match for the Multilabel Problem= 0.8360\n",
    "\n",
    "From all the classifier results we can see that upsampling the data using smote gives us a lower accuracy score and higher hamming loss on the test data. We can also notice that SVM with the Gaussian Radial Kernel gives us a better result, than LinearSVM. \n",
    "\n",
    "In conclusion, the best method to use on this dataset is SVM with RBF Kernel followed by SVM with linear kernel and SVM with linear kernel using SMOTE for upsampling respectively. "
   ]
  },
  {
   "cell_type": "markdown",
   "metadata": {},
   "source": [
    "### 2. K-Means Clustering on a Multi-Class and Multi-Label Data Set Monte-Carlo Simulation (a)"
   ]
  },
  {
   "cell_type": "markdown",
   "metadata": {},
   "source": [
    "Monte Carlo (MC) methods are a subset of computational algorithms that use the process of repeated random sampling to make numerical estimations of unknown parameters."
   ]
  },
  {
   "cell_type": "code",
   "execution_count": 40,
   "metadata": {},
   "outputs": [
    {
     "name": "stdout",
     "output_type": "stream",
     "text": [
      "Optimal value of k for iterations 1=4\n",
      "Optimal value of k for iterations 2=4\n",
      "Optimal value of k for iterations 3=4\n",
      "Optimal value of k for iterations 4=4\n",
      "Optimal value of k for iterations 5=4\n",
      "Optimal value of k for iterations 6=4\n",
      "Optimal value of k for iterations 7=4\n",
      "Optimal value of k for iterations 8=4\n",
      "Optimal value of k for iterations 9=4\n",
      "Optimal value of k for iterations 10=4\n",
      "Optimal value of k for iterations 11=4\n",
      "Optimal value of k for iterations 12=4\n",
      "Optimal value of k for iterations 13=4\n",
      "Optimal value of k for iterations 14=4\n",
      "Optimal value of k for iterations 15=4\n",
      "Optimal value of k for iterations 16=4\n",
      "Optimal value of k for iterations 17=4\n",
      "Optimal value of k for iterations 18=4\n",
      "Optimal value of k for iterations 19=4\n",
      "Optimal value of k for iterations 20=4\n",
      "Optimal value of k for iterations 21=4\n",
      "Optimal value of k for iterations 22=4\n",
      "Optimal value of k for iterations 23=4\n",
      "Optimal value of k for iterations 24=4\n",
      "Optimal value of k for iterations 25=4\n",
      "Optimal value of k for iterations 26=4\n",
      "Optimal value of k for iterations 27=4\n",
      "Optimal value of k for iterations 28=4\n",
      "Optimal value of k for iterations 29=4\n",
      "Optimal value of k for iterations 30=4\n",
      "Optimal value of k for iterations 31=4\n",
      "Optimal value of k for iterations 32=4\n",
      "Optimal value of k for iterations 33=4\n",
      "Optimal value of k for iterations 34=4\n",
      "Optimal value of k for iterations 35=4\n",
      "Optimal value of k for iterations 36=4\n",
      "Optimal value of k for iterations 37=4\n",
      "Optimal value of k for iterations 38=4\n",
      "Optimal value of k for iterations 39=4\n",
      "Optimal value of k for iterations 40=4\n",
      "Optimal value of k for iterations 41=4\n",
      "Optimal value of k for iterations 42=4\n",
      "Optimal value of k for iterations 43=4\n",
      "Optimal value of k for iterations 44=4\n",
      "Optimal value of k for iterations 45=4\n",
      "Optimal value of k for iterations 46=4\n",
      "Optimal value of k for iterations 47=4\n",
      "Optimal value of k for iterations 48=4\n",
      "Optimal value of k for iterations 49=4\n",
      "Optimal value of k for iterations 50=4\n",
      "Wall time: 1h 20min 10s\n"
     ]
    }
   ],
   "source": [
    "%%time\n",
    "from sklearn.cluster import KMeans\n",
    "from sklearn.metrics import silhouette_samples, silhouette_score\n",
    "silhouette_avg={}\n",
    "list1=[]\n",
    "for r in range(1,51):\n",
    "    for k in range(2,51):\n",
    "        k_means_model=KMeans(n_clusters=k,init='random',max_iter=100,n_jobs=-1)\n",
    "        cluster_labels=k_means_model.fit_predict(data_x)\n",
    "        silhouette_avg[k] = silhouette_score(data_x, cluster_labels)\n",
    "#         print(\"For k =\", k ,\"The average silhouette_score is :\", silhouette_score(data_x, cluster_labels))\n",
    "    optimal_k = max(silhouette_avg,key=silhouette_avg.get)\n",
    "    print(\"Optimal value of k for iterations {}={}\".format(r,optimal_k))\n",
    "    list1.append(optimal_k)"
   ]
  },
  {
   "cell_type": "markdown",
   "metadata": {},
   "source": [
    "I have taken the range from 2 to 50 and not 1 to 50 because number of labels is 1. Valid values are from 2 to n_samples - 1 (inclusive).\n",
    "\n",
    "The best value of k(n_clusters) is the one which has the highest silhouette score which is at k=4.\n",
    "\n",
    "The ideal value of si is 1. That means the higher the value of the silhouette score, the closer it is towards 1 and the data is very well clustered. The points in the cluster are very close to each other.\n",
    "\n",
    "Monte Carlo reference from https://towardsdatascience.com/an-overview-of-monte-carlo-methods-675384eb1694\n",
    "\n",
    ".get reference from https://stackoverflow.com/questions/26871866/print-highest-value-in-dict-with-key\n",
    "\n",
    "KMeans reference from https://scikit-learn.org/stable/auto_examples/cluster/plot_kmeans_silhouette_analysis.html"
   ]
  },
  {
   "cell_type": "markdown",
   "metadata": {},
   "source": [
    "### 2. K-Means Clustering on a Multi-Class and Multi-Label Data Set Monte-Carlo Simulation (b)"
   ]
  },
  {
   "cell_type": "code",
   "execution_count": 237,
   "metadata": {},
   "outputs": [],
   "source": [
    "df4=pd.DataFrame()\n",
    "df_k=df.append(df4)\n",
    "df_k['Family']=df_k['Family'].map({'0':'Bufonidae','1':'Dendrobatidae','2':'Hylidae','3':'Leptodactylidae'})\n",
    "df_k['Genus']=df_k['Genus'].map({'0':'Adenomera','1':'Ameerega','2':'Dendropsophus','3':'Hypsiboas','4':'Leptodactylus',\n",
    "                             '5':'Osteocephalus','6':'Rhinella','7':'Scinax'})\n",
    "df_k['Species']=df_k['Species'].map({'0':'AdenomeraAndre','1':'AdenomeraHylaedactylus','2':'Ameeregatrivittata','3':'HylaMinuta',\n",
    "                                '4':'HypsiboasCinerascens','5':'HypsiboasCordobae','6':'LeptodactylusFuscus',\n",
    "                                 '7':'OsteocephalusOophagus','8':'Rhinellagranulosa','9':'ScinaxRuber'})"
   ]
  },
  {
   "cell_type": "code",
   "execution_count": 238,
   "metadata": {},
   "outputs": [
    {
     "name": "stdout",
     "output_type": "stream",
     "text": [
      "Majority Class in Family Label: \n",
      " Cluster 0:Leptodactylidae, Cluster 1:Hylidae, Cluster 2:Hylidae, Cluster 3:Leptodactylidae\n",
      "Majority Class in Genus Label: \n",
      " Cluster 0:Adenomera, Cluster 1:Hypsiboas, Cluster 2:Hypsiboas, Cluster 3:Adenomera\n",
      "Majority Class in Species Label: \n",
      " Cluster 0:AdenomeraAndre, Cluster 1:HypsiboasCordobae, Cluster 2:HypsiboasCinerascens, Cluster 3:AdenomeraHylaedactylus\n",
      "Majority Class in Family Label: \n",
      " Cluster 0:Dendrobatidae, Cluster 1:Leptodactylidae, Cluster 2:Hylidae, Cluster 3:Hylidae\n",
      "Majority Class in Genus Label: \n",
      " Cluster 0:Ameerega, Cluster 1:Adenomera, Cluster 2:Hypsiboas, Cluster 3:Hypsiboas\n",
      "Majority Class in Species Label: \n",
      " Cluster 0:Ameeregatrivittata, Cluster 1:AdenomeraHylaedactylus, Cluster 2:HypsiboasCinerascens, Cluster 3:HypsiboasCordobae\n",
      "Majority Class in Family Label: \n",
      " Cluster 0:Leptodactylidae, Cluster 1:Dendrobatidae, Cluster 2:Hylidae, Cluster 3:Hylidae\n",
      "Majority Class in Genus Label: \n",
      " Cluster 0:Adenomera, Cluster 1:Ameerega, Cluster 2:Hypsiboas, Cluster 3:Hypsiboas\n",
      "Majority Class in Species Label: \n",
      " Cluster 0:AdenomeraHylaedactylus, Cluster 1:Ameeregatrivittata, Cluster 2:HypsiboasCinerascens, Cluster 3:HypsiboasCordobae\n",
      "Majority Class in Family Label: \n",
      " Cluster 0:Leptodactylidae, Cluster 1:Hylidae, Cluster 2:Leptodactylidae, Cluster 3:Hylidae\n",
      "Majority Class in Genus Label: \n",
      " Cluster 0:Adenomera, Cluster 1:Hypsiboas, Cluster 2:Adenomera, Cluster 3:Hypsiboas\n",
      "Majority Class in Species Label: \n",
      " Cluster 0:AdenomeraAndre, Cluster 1:HypsiboasCordobae, Cluster 2:AdenomeraHylaedactylus, Cluster 3:HypsiboasCordobae\n",
      "Majority Class in Family Label: \n",
      " Cluster 0:Hylidae, Cluster 1:Leptodactylidae, Cluster 2:Leptodactylidae, Cluster 3:Hylidae\n",
      "Majority Class in Genus Label: \n",
      " Cluster 0:Hypsiboas, Cluster 1:Adenomera, Cluster 2:Adenomera, Cluster 3:Hypsiboas\n",
      "Majority Class in Species Label: \n",
      " Cluster 0:HypsiboasCordobae, Cluster 1:AdenomeraHylaedactylus, Cluster 2:AdenomeraAndre, Cluster 3:HypsiboasCordobae\n",
      "Majority Class in Family Label: \n",
      " Cluster 0:Leptodactylidae, Cluster 1:Dendrobatidae, Cluster 2:Hylidae, Cluster 3:Hylidae\n",
      "Majority Class in Genus Label: \n",
      " Cluster 0:Adenomera, Cluster 1:Ameerega, Cluster 2:Hypsiboas, Cluster 3:Hypsiboas\n",
      "Majority Class in Species Label: \n",
      " Cluster 0:AdenomeraHylaedactylus, Cluster 1:Ameeregatrivittata, Cluster 2:HypsiboasCinerascens, Cluster 3:HypsiboasCordobae\n",
      "Majority Class in Family Label: \n",
      " Cluster 0:Leptodactylidae, Cluster 1:Leptodactylidae, Cluster 2:Hylidae, Cluster 3:Hylidae\n",
      "Majority Class in Genus Label: \n",
      " Cluster 0:Adenomera, Cluster 1:Adenomera, Cluster 2:Hypsiboas, Cluster 3:Hypsiboas\n",
      "Majority Class in Species Label: \n",
      " Cluster 0:AdenomeraAndre, Cluster 1:AdenomeraHylaedactylus, Cluster 2:HypsiboasCordobae, Cluster 3:HypsiboasCordobae\n",
      "Majority Class in Family Label: \n",
      " Cluster 0:Dendrobatidae, Cluster 1:Hylidae, Cluster 2:Leptodactylidae, Cluster 3:Hylidae\n",
      "Majority Class in Genus Label: \n",
      " Cluster 0:Ameerega, Cluster 1:Hypsiboas, Cluster 2:Adenomera, Cluster 3:Hypsiboas\n",
      "Majority Class in Species Label: \n",
      " Cluster 0:Ameeregatrivittata, Cluster 1:HypsiboasCordobae, Cluster 2:AdenomeraHylaedactylus, Cluster 3:HypsiboasCinerascens\n",
      "Majority Class in Family Label: \n",
      " Cluster 0:Hylidae, Cluster 1:Dendrobatidae, Cluster 2:Hylidae, Cluster 3:Leptodactylidae\n",
      "Majority Class in Genus Label: \n",
      " Cluster 0:Hypsiboas, Cluster 1:Ameerega, Cluster 2:Hypsiboas, Cluster 3:Adenomera\n",
      "Majority Class in Species Label: \n",
      " Cluster 0:HypsiboasCinerascens, Cluster 1:Ameeregatrivittata, Cluster 2:HypsiboasCordobae, Cluster 3:AdenomeraHylaedactylus\n",
      "Majority Class in Family Label: \n",
      " Cluster 0:Leptodactylidae, Cluster 1:Hylidae, Cluster 2:Hylidae, Cluster 3:Dendrobatidae\n",
      "Majority Class in Genus Label: \n",
      " Cluster 0:Adenomera, Cluster 1:Hypsiboas, Cluster 2:Hypsiboas, Cluster 3:Ameerega\n",
      "Majority Class in Species Label: \n",
      " Cluster 0:AdenomeraHylaedactylus, Cluster 1:HypsiboasCordobae, Cluster 2:HypsiboasCinerascens, Cluster 3:Ameeregatrivittata\n",
      "Majority Class in Family Label: \n",
      " Cluster 0:Leptodactylidae, Cluster 1:Hylidae, Cluster 2:Leptodactylidae, Cluster 3:Hylidae\n",
      "Majority Class in Genus Label: \n",
      " Cluster 0:Adenomera, Cluster 1:Hypsiboas, Cluster 2:Adenomera, Cluster 3:Hypsiboas\n",
      "Majority Class in Species Label: \n",
      " Cluster 0:AdenomeraHylaedactylus, Cluster 1:HypsiboasCordobae, Cluster 2:AdenomeraAndre, Cluster 3:HypsiboasCordobae\n",
      "Majority Class in Family Label: \n",
      " Cluster 0:Hylidae, Cluster 1:Leptodactylidae, Cluster 2:Dendrobatidae, Cluster 3:Hylidae\n",
      "Majority Class in Genus Label: \n",
      " Cluster 0:Hypsiboas, Cluster 1:Adenomera, Cluster 2:Ameerega, Cluster 3:Hypsiboas\n",
      "Majority Class in Species Label: \n",
      " Cluster 0:HypsiboasCinerascens, Cluster 1:AdenomeraHylaedactylus, Cluster 2:Ameeregatrivittata, Cluster 3:HypsiboasCordobae\n",
      "Majority Class in Family Label: \n",
      " Cluster 0:Dendrobatidae, Cluster 1:Hylidae, Cluster 2:Leptodactylidae, Cluster 3:Hylidae\n",
      "Majority Class in Genus Label: \n",
      " Cluster 0:Ameerega, Cluster 1:Hypsiboas, Cluster 2:Adenomera, Cluster 3:Hypsiboas\n",
      "Majority Class in Species Label: \n",
      " Cluster 0:Ameeregatrivittata, Cluster 1:HypsiboasCordobae, Cluster 2:AdenomeraHylaedactylus, Cluster 3:HypsiboasCinerascens\n",
      "Majority Class in Family Label: \n",
      " Cluster 0:Hylidae, Cluster 1:Leptodactylidae, Cluster 2:Leptodactylidae, Cluster 3:Hylidae\n",
      "Majority Class in Genus Label: \n",
      " Cluster 0:Hypsiboas, Cluster 1:Adenomera, Cluster 2:Adenomera, Cluster 3:Hypsiboas\n",
      "Majority Class in Species Label: \n",
      " Cluster 0:HypsiboasCordobae, Cluster 1:AdenomeraAndre, Cluster 2:AdenomeraHylaedactylus, Cluster 3:HypsiboasCordobae\n",
      "Majority Class in Family Label: \n",
      " Cluster 0:Dendrobatidae, Cluster 1:Hylidae, Cluster 2:Hylidae, Cluster 3:Leptodactylidae\n",
      "Majority Class in Genus Label: \n",
      " Cluster 0:Ameerega, Cluster 1:Hypsiboas, Cluster 2:Hypsiboas, Cluster 3:Adenomera\n",
      "Majority Class in Species Label: \n",
      " Cluster 0:Ameeregatrivittata, Cluster 1:HypsiboasCordobae, Cluster 2:HypsiboasCinerascens, Cluster 3:AdenomeraHylaedactylus\n",
      "Majority Class in Family Label: \n",
      " Cluster 0:Hylidae, Cluster 1:Dendrobatidae, Cluster 2:Leptodactylidae, Cluster 3:Hylidae\n",
      "Majority Class in Genus Label: \n",
      " Cluster 0:Hypsiboas, Cluster 1:Ameerega, Cluster 2:Adenomera, Cluster 3:Hypsiboas\n",
      "Majority Class in Species Label: \n",
      " Cluster 0:HypsiboasCordobae, Cluster 1:Ameeregatrivittata, Cluster 2:AdenomeraHylaedactylus, Cluster 3:HypsiboasCinerascens\n",
      "Majority Class in Family Label: \n",
      " Cluster 0:Hylidae, Cluster 1:Dendrobatidae, Cluster 2:Hylidae, Cluster 3:Leptodactylidae\n",
      "Majority Class in Genus Label: \n",
      " Cluster 0:Hypsiboas, Cluster 1:Ameerega, Cluster 2:Hypsiboas, Cluster 3:Adenomera\n",
      "Majority Class in Species Label: \n",
      " Cluster 0:HypsiboasCinerascens, Cluster 1:Ameeregatrivittata, Cluster 2:HypsiboasCordobae, Cluster 3:AdenomeraHylaedactylus\n",
      "Majority Class in Family Label: \n",
      " Cluster 0:Hylidae, Cluster 1:Hylidae, Cluster 2:Dendrobatidae, Cluster 3:Leptodactylidae\n",
      "Majority Class in Genus Label: \n",
      " Cluster 0:Hypsiboas, Cluster 1:Hypsiboas, Cluster 2:Ameerega, Cluster 3:Adenomera\n",
      "Majority Class in Species Label: \n",
      " Cluster 0:HypsiboasCinerascens, Cluster 1:HypsiboasCordobae, Cluster 2:Ameeregatrivittata, Cluster 3:AdenomeraHylaedactylus\n",
      "Majority Class in Family Label: \n",
      " Cluster 0:Leptodactylidae, Cluster 1:Hylidae, Cluster 2:Hylidae, Cluster 3:Leptodactylidae\n",
      "Majority Class in Genus Label: \n",
      " Cluster 0:Adenomera, Cluster 1:Hypsiboas, Cluster 2:Hypsiboas, Cluster 3:Adenomera\n",
      "Majority Class in Species Label: \n",
      " Cluster 0:AdenomeraAndre, Cluster 1:HypsiboasCordobae, Cluster 2:HypsiboasCordobae, Cluster 3:AdenomeraHylaedactylus\n",
      "Majority Class in Family Label: \n",
      " Cluster 0:Hylidae, Cluster 1:Hylidae, Cluster 2:Dendrobatidae, Cluster 3:Leptodactylidae\n",
      "Majority Class in Genus Label: \n",
      " Cluster 0:Hypsiboas, Cluster 1:Hypsiboas, Cluster 2:Ameerega, Cluster 3:Adenomera\n",
      "Majority Class in Species Label: \n",
      " Cluster 0:HypsiboasCinerascens, Cluster 1:HypsiboasCordobae, Cluster 2:Ameeregatrivittata, Cluster 3:AdenomeraHylaedactylus\n",
      "Majority Class in Family Label: \n",
      " Cluster 0:Hylidae, Cluster 1:Dendrobatidae, Cluster 2:Hylidae, Cluster 3:Leptodactylidae\n",
      "Majority Class in Genus Label: \n",
      " Cluster 0:Hypsiboas, Cluster 1:Ameerega, Cluster 2:Hypsiboas, Cluster 3:Adenomera\n",
      "Majority Class in Species Label: \n",
      " Cluster 0:HypsiboasCinerascens, Cluster 1:Ameeregatrivittata, Cluster 2:HypsiboasCordobae, Cluster 3:AdenomeraHylaedactylus\n"
     ]
    },
    {
     "name": "stdout",
     "output_type": "stream",
     "text": [
      "Majority Class in Family Label: \n",
      " Cluster 0:Hylidae, Cluster 1:Leptodactylidae, Cluster 2:Hylidae, Cluster 3:Dendrobatidae\n",
      "Majority Class in Genus Label: \n",
      " Cluster 0:Hypsiboas, Cluster 1:Adenomera, Cluster 2:Hypsiboas, Cluster 3:Ameerega\n",
      "Majority Class in Species Label: \n",
      " Cluster 0:HypsiboasCordobae, Cluster 1:AdenomeraHylaedactylus, Cluster 2:HypsiboasCinerascens, Cluster 3:Ameeregatrivittata\n",
      "Majority Class in Family Label: \n",
      " Cluster 0:Hylidae, Cluster 1:Hylidae, Cluster 2:Dendrobatidae, Cluster 3:Leptodactylidae\n",
      "Majority Class in Genus Label: \n",
      " Cluster 0:Hypsiboas, Cluster 1:Hypsiboas, Cluster 2:Ameerega, Cluster 3:Adenomera\n",
      "Majority Class in Species Label: \n",
      " Cluster 0:HypsiboasCordobae, Cluster 1:HypsiboasCinerascens, Cluster 2:Ameeregatrivittata, Cluster 3:AdenomeraHylaedactylus\n",
      "Majority Class in Family Label: \n",
      " Cluster 0:Hylidae, Cluster 1:Leptodactylidae, Cluster 2:Leptodactylidae, Cluster 3:Hylidae\n",
      "Majority Class in Genus Label: \n",
      " Cluster 0:Hypsiboas, Cluster 1:Adenomera, Cluster 2:Adenomera, Cluster 3:Hypsiboas\n",
      "Majority Class in Species Label: \n",
      " Cluster 0:HypsiboasCordobae, Cluster 1:AdenomeraHylaedactylus, Cluster 2:AdenomeraAndre, Cluster 3:HypsiboasCordobae\n",
      "Majority Class in Family Label: \n",
      " Cluster 0:Hylidae, Cluster 1:Leptodactylidae, Cluster 2:Hylidae, Cluster 3:Dendrobatidae\n",
      "Majority Class in Genus Label: \n",
      " Cluster 0:Hypsiboas, Cluster 1:Adenomera, Cluster 2:Hypsiboas, Cluster 3:Ameerega\n",
      "Majority Class in Species Label: \n",
      " Cluster 0:HypsiboasCordobae, Cluster 1:AdenomeraHylaedactylus, Cluster 2:HypsiboasCinerascens, Cluster 3:Ameeregatrivittata\n",
      "Majority Class in Family Label: \n",
      " Cluster 0:Leptodactylidae, Cluster 1:Hylidae, Cluster 2:Leptodactylidae, Cluster 3:Hylidae\n",
      "Majority Class in Genus Label: \n",
      " Cluster 0:Adenomera, Cluster 1:Hypsiboas, Cluster 2:Adenomera, Cluster 3:Hypsiboas\n",
      "Majority Class in Species Label: \n",
      " Cluster 0:AdenomeraHylaedactylus, Cluster 1:HypsiboasCordobae, Cluster 2:AdenomeraAndre, Cluster 3:HypsiboasCordobae\n",
      "Majority Class in Family Label: \n",
      " Cluster 0:Hylidae, Cluster 1:Hylidae, Cluster 2:Dendrobatidae, Cluster 3:Leptodactylidae\n",
      "Majority Class in Genus Label: \n",
      " Cluster 0:Hypsiboas, Cluster 1:Hypsiboas, Cluster 2:Ameerega, Cluster 3:Adenomera\n",
      "Majority Class in Species Label: \n",
      " Cluster 0:HypsiboasCinerascens, Cluster 1:HypsiboasCordobae, Cluster 2:Ameeregatrivittata, Cluster 3:AdenomeraHylaedactylus\n",
      "Majority Class in Family Label: \n",
      " Cluster 0:Leptodactylidae, Cluster 1:Hylidae, Cluster 2:Hylidae, Cluster 3:Dendrobatidae\n",
      "Majority Class in Genus Label: \n",
      " Cluster 0:Adenomera, Cluster 1:Hypsiboas, Cluster 2:Hypsiboas, Cluster 3:Ameerega\n",
      "Majority Class in Species Label: \n",
      " Cluster 0:AdenomeraHylaedactylus, Cluster 1:HypsiboasCordobae, Cluster 2:HypsiboasCinerascens, Cluster 3:Ameeregatrivittata\n",
      "Majority Class in Family Label: \n",
      " Cluster 0:Hylidae, Cluster 1:Hylidae, Cluster 2:Leptodactylidae, Cluster 3:Dendrobatidae\n",
      "Majority Class in Genus Label: \n",
      " Cluster 0:Hypsiboas, Cluster 1:Hypsiboas, Cluster 2:Adenomera, Cluster 3:Ameerega\n",
      "Majority Class in Species Label: \n",
      " Cluster 0:HypsiboasCinerascens, Cluster 1:HypsiboasCordobae, Cluster 2:AdenomeraHylaedactylus, Cluster 3:Ameeregatrivittata\n",
      "Majority Class in Family Label: \n",
      " Cluster 0:Hylidae, Cluster 1:Hylidae, Cluster 2:Leptodactylidae, Cluster 3:Dendrobatidae\n",
      "Majority Class in Genus Label: \n",
      " Cluster 0:Hypsiboas, Cluster 1:Hypsiboas, Cluster 2:Adenomera, Cluster 3:Ameerega\n",
      "Majority Class in Species Label: \n",
      " Cluster 0:HypsiboasCinerascens, Cluster 1:HypsiboasCordobae, Cluster 2:AdenomeraHylaedactylus, Cluster 3:Ameeregatrivittata\n",
      "Majority Class in Family Label: \n",
      " Cluster 0:Leptodactylidae, Cluster 1:Dendrobatidae, Cluster 2:Hylidae, Cluster 3:Hylidae\n",
      "Majority Class in Genus Label: \n",
      " Cluster 0:Adenomera, Cluster 1:Ameerega, Cluster 2:Hypsiboas, Cluster 3:Hypsiboas\n",
      "Majority Class in Species Label: \n",
      " Cluster 0:AdenomeraHylaedactylus, Cluster 1:Ameeregatrivittata, Cluster 2:HypsiboasCordobae, Cluster 3:HypsiboasCinerascens\n",
      "Majority Class in Family Label: \n",
      " Cluster 0:Hylidae, Cluster 1:Hylidae, Cluster 2:Leptodactylidae, Cluster 3:Leptodactylidae\n",
      "Majority Class in Genus Label: \n",
      " Cluster 0:Hypsiboas, Cluster 1:Hypsiboas, Cluster 2:Adenomera, Cluster 3:Adenomera\n",
      "Majority Class in Species Label: \n",
      " Cluster 0:HypsiboasCordobae, Cluster 1:HypsiboasCinerascens, Cluster 2:AdenomeraAndre, Cluster 3:AdenomeraHylaedactylus\n",
      "Majority Class in Family Label: \n",
      " Cluster 0:Hylidae, Cluster 1:Hylidae, Cluster 2:Leptodactylidae, Cluster 3:Leptodactylidae\n",
      "Majority Class in Genus Label: \n",
      " Cluster 0:Hypsiboas, Cluster 1:Hypsiboas, Cluster 2:Adenomera, Cluster 3:Adenomera\n",
      "Majority Class in Species Label: \n",
      " Cluster 0:HypsiboasCordobae, Cluster 1:HypsiboasCordobae, Cluster 2:AdenomeraHylaedactylus, Cluster 3:AdenomeraAndre\n",
      "Majority Class in Family Label: \n",
      " Cluster 0:Hylidae, Cluster 1:Hylidae, Cluster 2:Dendrobatidae, Cluster 3:Leptodactylidae\n",
      "Majority Class in Genus Label: \n",
      " Cluster 0:Hypsiboas, Cluster 1:Hypsiboas, Cluster 2:Ameerega, Cluster 3:Adenomera\n",
      "Majority Class in Species Label: \n",
      " Cluster 0:HypsiboasCordobae, Cluster 1:HypsiboasCinerascens, Cluster 2:Ameeregatrivittata, Cluster 3:AdenomeraHylaedactylus\n",
      "Majority Class in Family Label: \n",
      " Cluster 0:Leptodactylidae, Cluster 1:Hylidae, Cluster 2:Hylidae, Cluster 3:Dendrobatidae\n",
      "Majority Class in Genus Label: \n",
      " Cluster 0:Adenomera, Cluster 1:Hypsiboas, Cluster 2:Hypsiboas, Cluster 3:Ameerega\n",
      "Majority Class in Species Label: \n",
      " Cluster 0:AdenomeraHylaedactylus, Cluster 1:HypsiboasCinerascens, Cluster 2:HypsiboasCordobae, Cluster 3:Ameeregatrivittata\n",
      "Majority Class in Family Label: \n",
      " Cluster 0:Hylidae, Cluster 1:Leptodactylidae, Cluster 2:Dendrobatidae, Cluster 3:Hylidae\n",
      "Majority Class in Genus Label: \n",
      " Cluster 0:Hypsiboas, Cluster 1:Adenomera, Cluster 2:Ameerega, Cluster 3:Hypsiboas\n",
      "Majority Class in Species Label: \n",
      " Cluster 0:HypsiboasCinerascens, Cluster 1:AdenomeraHylaedactylus, Cluster 2:Ameeregatrivittata, Cluster 3:HypsiboasCordobae\n",
      "Majority Class in Family Label: \n",
      " Cluster 0:Hylidae, Cluster 1:Leptodactylidae, Cluster 2:Hylidae, Cluster 3:Leptodactylidae\n",
      "Majority Class in Genus Label: \n",
      " Cluster 0:Hypsiboas, Cluster 1:Adenomera, Cluster 2:Hypsiboas, Cluster 3:Adenomera\n",
      "Majority Class in Species Label: \n",
      " Cluster 0:HypsiboasCordobae, Cluster 1:AdenomeraHylaedactylus, Cluster 2:HypsiboasCinerascens, Cluster 3:AdenomeraAndre\n",
      "Majority Class in Family Label: \n",
      " Cluster 0:Hylidae, Cluster 1:Leptodactylidae, Cluster 2:Hylidae, Cluster 3:Dendrobatidae\n",
      "Majority Class in Genus Label: \n",
      " Cluster 0:Hypsiboas, Cluster 1:Adenomera, Cluster 2:Hypsiboas, Cluster 3:Ameerega\n",
      "Majority Class in Species Label: \n",
      " Cluster 0:HypsiboasCordobae, Cluster 1:AdenomeraHylaedactylus, Cluster 2:HypsiboasCinerascens, Cluster 3:Ameeregatrivittata\n",
      "Majority Class in Family Label: \n",
      " Cluster 0:Hylidae, Cluster 1:Dendrobatidae, Cluster 2:Hylidae, Cluster 3:Leptodactylidae\n",
      "Majority Class in Genus Label: \n",
      " Cluster 0:Hypsiboas, Cluster 1:Ameerega, Cluster 2:Hypsiboas, Cluster 3:Adenomera\n",
      "Majority Class in Species Label: \n",
      " Cluster 0:HypsiboasCordobae, Cluster 1:Ameeregatrivittata, Cluster 2:HypsiboasCinerascens, Cluster 3:AdenomeraHylaedactylus\n",
      "Majority Class in Family Label: \n",
      " Cluster 0:Hylidae, Cluster 1:Dendrobatidae, Cluster 2:Leptodactylidae, Cluster 3:Hylidae\n",
      "Majority Class in Genus Label: \n",
      " Cluster 0:Hypsiboas, Cluster 1:Ameerega, Cluster 2:Adenomera, Cluster 3:Hypsiboas\n",
      "Majority Class in Species Label: \n",
      " Cluster 0:HypsiboasCinerascens, Cluster 1:Ameeregatrivittata, Cluster 2:AdenomeraHylaedactylus, Cluster 3:HypsiboasCordobae\n",
      "Majority Class in Family Label: \n",
      " Cluster 0:Leptodactylidae, Cluster 1:Hylidae, Cluster 2:Hylidae, Cluster 3:Dendrobatidae\n",
      "Majority Class in Genus Label: \n",
      " Cluster 0:Adenomera, Cluster 1:Hypsiboas, Cluster 2:Hypsiboas, Cluster 3:Ameerega\n",
      "Majority Class in Species Label: \n",
      " Cluster 0:AdenomeraHylaedactylus, Cluster 1:HypsiboasCinerascens, Cluster 2:HypsiboasCordobae, Cluster 3:Ameeregatrivittata\n",
      "Majority Class in Family Label: \n",
      " Cluster 0:Hylidae, Cluster 1:Leptodactylidae, Cluster 2:Hylidae, Cluster 3:Dendrobatidae\n",
      "Majority Class in Genus Label: \n",
      " Cluster 0:Hypsiboas, Cluster 1:Adenomera, Cluster 2:Hypsiboas, Cluster 3:Ameerega\n",
      "Majority Class in Species Label: \n",
      " Cluster 0:HypsiboasCordobae, Cluster 1:AdenomeraHylaedactylus, Cluster 2:HypsiboasCinerascens, Cluster 3:Ameeregatrivittata\n"
     ]
    },
    {
     "name": "stdout",
     "output_type": "stream",
     "text": [
      "Majority Class in Family Label: \n",
      " Cluster 0:Hylidae, Cluster 1:Leptodactylidae, Cluster 2:Hylidae, Cluster 3:Leptodactylidae\n",
      "Majority Class in Genus Label: \n",
      " Cluster 0:Hypsiboas, Cluster 1:Adenomera, Cluster 2:Hypsiboas, Cluster 3:Adenomera\n",
      "Majority Class in Species Label: \n",
      " Cluster 0:HypsiboasCordobae, Cluster 1:AdenomeraHylaedactylus, Cluster 2:HypsiboasCinerascens, Cluster 3:AdenomeraAndre\n",
      "Majority Class in Family Label: \n",
      " Cluster 0:Hylidae, Cluster 1:Hylidae, Cluster 2:Leptodactylidae, Cluster 3:Dendrobatidae\n",
      "Majority Class in Genus Label: \n",
      " Cluster 0:Hypsiboas, Cluster 1:Hypsiboas, Cluster 2:Adenomera, Cluster 3:Ameerega\n",
      "Majority Class in Species Label: \n",
      " Cluster 0:HypsiboasCordobae, Cluster 1:HypsiboasCinerascens, Cluster 2:AdenomeraHylaedactylus, Cluster 3:Ameeregatrivittata\n",
      "Majority Class in Family Label: \n",
      " Cluster 0:Leptodactylidae, Cluster 1:Leptodactylidae, Cluster 2:Hylidae, Cluster 3:Hylidae\n",
      "Majority Class in Genus Label: \n",
      " Cluster 0:Adenomera, Cluster 1:Adenomera, Cluster 2:Hypsiboas, Cluster 3:Hypsiboas\n",
      "Majority Class in Species Label: \n",
      " Cluster 0:AdenomeraHylaedactylus, Cluster 1:AdenomeraAndre, Cluster 2:HypsiboasCordobae, Cluster 3:HypsiboasCinerascens\n",
      "Majority Class in Family Label: \n",
      " Cluster 0:Hylidae, Cluster 1:Dendrobatidae, Cluster 2:Hylidae, Cluster 3:Leptodactylidae\n",
      "Majority Class in Genus Label: \n",
      " Cluster 0:Hypsiboas, Cluster 1:Ameerega, Cluster 2:Hypsiboas, Cluster 3:Adenomera\n",
      "Majority Class in Species Label: \n",
      " Cluster 0:HypsiboasCinerascens, Cluster 1:Ameeregatrivittata, Cluster 2:HypsiboasCordobae, Cluster 3:AdenomeraHylaedactylus\n",
      "Majority Class in Family Label: \n",
      " Cluster 0:Hylidae, Cluster 1:Dendrobatidae, Cluster 2:Leptodactylidae, Cluster 3:Hylidae\n",
      "Majority Class in Genus Label: \n",
      " Cluster 0:Hypsiboas, Cluster 1:Ameerega, Cluster 2:Adenomera, Cluster 3:Hypsiboas\n",
      "Majority Class in Species Label: \n",
      " Cluster 0:HypsiboasCinerascens, Cluster 1:Ameeregatrivittata, Cluster 2:AdenomeraHylaedactylus, Cluster 3:HypsiboasCordobae\n",
      "Majority Class in Family Label: \n",
      " Cluster 0:Hylidae, Cluster 1:Dendrobatidae, Cluster 2:Leptodactylidae, Cluster 3:Hylidae\n",
      "Majority Class in Genus Label: \n",
      " Cluster 0:Hypsiboas, Cluster 1:Ameerega, Cluster 2:Adenomera, Cluster 3:Hypsiboas\n",
      "Majority Class in Species Label: \n",
      " Cluster 0:HypsiboasCinerascens, Cluster 1:Ameeregatrivittata, Cluster 2:AdenomeraHylaedactylus, Cluster 3:HypsiboasCordobae\n",
      "Majority Class in Family Label: \n",
      " Cluster 0:Leptodactylidae, Cluster 1:Hylidae, Cluster 2:Hylidae, Cluster 3:Leptodactylidae\n",
      "Majority Class in Genus Label: \n",
      " Cluster 0:Adenomera, Cluster 1:Hypsiboas, Cluster 2:Hypsiboas, Cluster 3:Adenomera\n",
      "Majority Class in Species Label: \n",
      " Cluster 0:AdenomeraAndre, Cluster 1:HypsiboasCordobae, Cluster 2:HypsiboasCordobae, Cluster 3:AdenomeraHylaedactylus\n",
      "Majority Class in Family Label: \n",
      " Cluster 0:Leptodactylidae, Cluster 1:Hylidae, Cluster 2:Hylidae, Cluster 3:Dendrobatidae\n",
      "Majority Class in Genus Label: \n",
      " Cluster 0:Adenomera, Cluster 1:Hypsiboas, Cluster 2:Hypsiboas, Cluster 3:Ameerega\n",
      "Majority Class in Species Label: \n",
      " Cluster 0:AdenomeraHylaedactylus, Cluster 1:HypsiboasCordobae, Cluster 2:HypsiboasCinerascens, Cluster 3:Ameeregatrivittata\n"
     ]
    }
   ],
   "source": [
    "for k in list1:\n",
    "    k_means=KMeans(n_clusters=k,init='random')\n",
    "    model=k_means.fit(data_x)\n",
    "\n",
    "    cls=np.unique(model.labels_)\n",
    "\n",
    "    df_1 = pd.DataFrame()\n",
    "    df_1['Index'] = df_k.index.values\n",
    "    df_1['Cluster'] = model.labels_\n",
    "    temp= df_1[df_1['Cluster']==0]['Index'].values    \n",
    "    temp1=  df_1[df_1['Cluster']==1]['Index'].values\n",
    "    temp2=  df_1[df_1['Cluster']==2]['Index'].values\n",
    "    temp3=  df_1[df_1['Cluster']==3]['Index'].values\n",
    "    \n",
    "    f0=df_k.iloc[temp]['Family'].value_counts().idxmax()\n",
    "    f1=df_k.iloc[temp1]['Family'].value_counts().idxmax()\n",
    "    f2=df_k.iloc[temp2]['Family'].value_counts().idxmax()\n",
    "    f3=df_k.iloc[temp3]['Family'].value_counts().idxmax()\n",
    "    g0=df_k.iloc[temp]['Genus'].value_counts().idxmax()\n",
    "    g1=df_k.iloc[temp1]['Genus'].value_counts().idxmax()\n",
    "    g2=df_k.iloc[temp2]['Genus'].value_counts().idxmax()\n",
    "    g3=df_k.iloc[temp3]['Genus'].value_counts().idxmax()\n",
    "    s0=df_k.iloc[temp]['Species'].value_counts().idxmax()\n",
    "    s1=df_k.iloc[temp1]['Species'].value_counts().idxmax()\n",
    "    s2=df_k.iloc[temp2]['Species'].value_counts().idxmax()\n",
    "    s3=df_k.iloc[temp3]['Species'].value_counts().idxmax()   \n",
    "    \n",
    "    print(\"Majority Class in Family Label: \\n Cluster 0:{}, Cluster 1:{}, Cluster 2:{}, Cluster 3:{}\".format(f0,f1,f2,f3))\n",
    "    print(\"Majority Class in Genus Label: \\n Cluster 0:{}, Cluster 1:{}, Cluster 2:{}, Cluster 3:{}\".format(g0,g1,g2,g3))\n",
    "    print(\"Majority Class in Species Label: \\n Cluster 0:{}, Cluster 1:{}, Cluster 2:{}, Cluster 3:{}\".format(s0,s1,s2,s3))"
   ]
  },
  {
   "cell_type": "markdown",
   "metadata": {},
   "source": [
    "### 2. K-Means Clustering on a Multi-Class and Multi-Label Data Set Monte-Carlo Simulation (c)"
   ]
  },
  {
   "cell_type": "markdown",
   "metadata": {},
   "source": [
    "The Hamming distance between two strings of equal length is the number of positions at which the corresponding symbols are different. This means that Hamming distance is equal to Hamming Loss. "
   ]
  },
  {
   "cell_type": "code",
   "execution_count": 250,
   "metadata": {
    "scrolled": false
   },
   "outputs": [
    {
     "name": "stdout",
     "output_type": "stream",
     "text": [
      "Majority Triplets for iteration 1: \n",
      " Cluster 0:Dendrobatidae,Ameerega,Ameeregatrivittata \n",
      " Cluster 1: Hylidae,Hypsiboas,HypsiboasCinerascens \n",
      " Cluster 2: Leptodactylidae,Adenomera,AdenomeraHylaedactylus \n",
      " Cluster 3: Hylidae,Hypsiboas,HypsiboasCordobae \n",
      "Hamming score for iteration 1=0.7775770210794534\n",
      "Hamming loss for iteration 1=0.22242297892054663\n",
      "Majority Triplets for iteration 2: \n",
      " Cluster 0:Leptodactylidae,Adenomera,AdenomeraHylaedactylus \n",
      " Cluster 1: Dendrobatidae,Ameerega,Ameeregatrivittata \n",
      " Cluster 2: Hylidae,Hypsiboas,HypsiboasCordobae \n",
      " Cluster 3: Hylidae,Hypsiboas,HypsiboasCinerascens \n",
      "Hamming score for iteration 2=0.7775770210794534\n",
      "Hamming loss for iteration 2=0.22242297892054663\n",
      "Majority Triplets for iteration 3: \n",
      " Cluster 0:Leptodactylidae,Adenomera,AdenomeraAndre \n",
      " Cluster 1: Leptodactylidae,Adenomera,AdenomeraHylaedactylus \n",
      " Cluster 2: Hylidae,Hypsiboas,HypsiboasCordobae \n",
      " Cluster 3: Hylidae,Hypsiboas,HypsiboasCordobae \n",
      "Hamming score for iteration 3=0.7524669909659486\n",
      "Hamming loss for iteration 3=0.2475330090340514\n",
      "Majority Triplets for iteration 4: \n",
      " Cluster 0:Leptodactylidae,Adenomera,AdenomeraHylaedactylus \n",
      " Cluster 1: Hylidae,Hypsiboas,HypsiboasCordobae \n",
      " Cluster 2: Dendrobatidae,Ameerega,Ameeregatrivittata \n",
      " Cluster 3: Hylidae,Hypsiboas,HypsiboasCinerascens \n",
      "Hamming score for iteration 4=0.7775770210794534\n",
      "Hamming loss for iteration 4=0.22242297892054663\n",
      "Majority Triplets for iteration 5: \n",
      " Cluster 0:Leptodactylidae,Adenomera,AdenomeraHylaedactylus \n",
      " Cluster 1: Dendrobatidae,Ameerega,Ameeregatrivittata \n",
      " Cluster 2: Hylidae,Hypsiboas,HypsiboasCinerascens \n",
      " Cluster 3: Hylidae,Hypsiboas,HypsiboasCordobae \n",
      "Hamming score for iteration 5=0.7775306926106093\n",
      "Hamming loss for iteration 5=0.22246930738939075\n",
      "Majority Triplets for iteration 6: \n",
      " Cluster 0:Dendrobatidae,Ameerega,Ameeregatrivittata \n",
      " Cluster 1: Hylidae,Hypsiboas,HypsiboasCinerascens \n",
      " Cluster 2: Hylidae,Hypsiboas,HypsiboasCordobae \n",
      " Cluster 3: Leptodactylidae,Adenomera,AdenomeraHylaedactylus \n",
      "Hamming score for iteration 6=0.7543664581885569\n",
      "Hamming loss for iteration 6=0.24563354181144315\n",
      "Majority Triplets for iteration 7: \n",
      " Cluster 0:Leptodactylidae,Adenomera,AdenomeraHylaedactylus \n",
      " Cluster 1: Hylidae,Hypsiboas,HypsiboasCordobae \n",
      " Cluster 2: Hylidae,Hypsiboas,HypsiboasCordobae \n",
      " Cluster 3: Leptodactylidae,Adenomera,AdenomeraAndre \n",
      "Hamming score for iteration 7=0.754876071345842\n",
      "Hamming loss for iteration 7=0.245123928654158\n",
      "Majority Triplets for iteration 8: \n",
      " Cluster 0:Dendrobatidae,Ameerega,Ameeregatrivittata \n",
      " Cluster 1: Hylidae,Hypsiboas,HypsiboasCordobae \n",
      " Cluster 2: Leptodactylidae,Adenomera,AdenomeraHylaedactylus \n",
      " Cluster 3: Hylidae,Hypsiboas,HypsiboasCinerascens \n",
      "Hamming score for iteration 8=0.7775770210794534\n",
      "Hamming loss for iteration 8=0.22242297892054663\n",
      "Majority Triplets for iteration 9: \n",
      " Cluster 0:Hylidae,Hypsiboas,HypsiboasCinerascens \n",
      " Cluster 1: Leptodactylidae,Adenomera,AdenomeraHylaedactylus \n",
      " Cluster 2: Hylidae,Hypsiboas,HypsiboasCordobae \n",
      " Cluster 3: Leptodactylidae,Adenomera,AdenomeraAndre \n",
      "Hamming score for iteration 9=0.7666435024322447\n",
      "Hamming loss for iteration 9=0.23335649756775534\n",
      "Majority Triplets for iteration 10: \n",
      " Cluster 0:Leptodactylidae,Adenomera,AdenomeraHylaedactylus \n",
      " Cluster 1: Hylidae,Hypsiboas,HypsiboasCordobae \n",
      " Cluster 2: Hylidae,Hypsiboas,HypsiboasCinerascens \n",
      " Cluster 3: Dendrobatidae,Ameerega,Ameeregatrivittata \n",
      "Hamming score for iteration 10=0.7775770210794534\n",
      "Hamming loss for iteration 10=0.22242297892054663\n",
      "Majority Triplets for iteration 11: \n",
      " Cluster 0:Hylidae,Hypsiboas,HypsiboasCordobae \n",
      " Cluster 1: Leptodactylidae,Adenomera,AdenomeraHylaedactylus \n",
      " Cluster 2: Leptodactylidae,Adenomera,AdenomeraAndre \n",
      " Cluster 3: Hylidae,Hypsiboas,HypsiboasCordobae \n",
      "Hamming score for iteration 11=0.7547370859393097\n",
      "Hamming loss for iteration 11=0.24526291406069034\n",
      "Majority Triplets for iteration 12: \n",
      " Cluster 0:Dendrobatidae,Ameerega,Ameeregatrivittata \n",
      " Cluster 1: Hylidae,Hypsiboas,HypsiboasCordobae \n",
      " Cluster 2: Hylidae,Hypsiboas,HypsiboasCinerascens \n",
      " Cluster 3: Leptodactylidae,Adenomera,AdenomeraHylaedactylus \n",
      "Hamming score for iteration 12=0.7778549918925179\n",
      "Hamming loss for iteration 12=0.22214500810748206\n",
      "Majority Triplets for iteration 13: \n",
      " Cluster 0:Leptodactylidae,Adenomera,AdenomeraHylaedactylus \n",
      " Cluster 1: Dendrobatidae,Ameerega,Ameeregatrivittata \n",
      " Cluster 2: Hylidae,Hypsiboas,HypsiboasCinerascens \n",
      " Cluster 3: Hylidae,Hypsiboas,HypsiboasCordobae \n",
      "Hamming score for iteration 13=0.7775770210794534\n",
      "Hamming loss for iteration 13=0.22242297892054663\n",
      "Majority Triplets for iteration 14: \n",
      " Cluster 0:Leptodactylidae,Adenomera,AdenomeraHylaedactylus \n",
      " Cluster 1: Hylidae,Hypsiboas,HypsiboasCordobae \n",
      " Cluster 2: Hylidae,Hypsiboas,HypsiboasCinerascens \n",
      " Cluster 3: Dendrobatidae,Ameerega,Ameeregatrivittata \n",
      "Hamming score for iteration 14=0.7782256196432707\n",
      "Hamming loss for iteration 14=0.22177438035672925\n",
      "Majority Triplets for iteration 15: \n",
      " Cluster 0:Hylidae,Hypsiboas,HypsiboasCordobae \n",
      " Cluster 1: Hylidae,Hypsiboas,HypsiboasCordobae \n",
      " Cluster 2: Leptodactylidae,Adenomera,AdenomeraHylaedactylus \n",
      " Cluster 3: Leptodactylidae,Adenomera,AdenomeraAndre \n",
      "Hamming score for iteration 15=0.7547370859393097\n",
      "Hamming loss for iteration 15=0.24526291406069034\n",
      "Majority Triplets for iteration 16: \n",
      " Cluster 0:Hylidae,Hypsiboas,HypsiboasCordobae \n",
      " Cluster 1: Dendrobatidae,Ameerega,Ameeregatrivittata \n",
      " Cluster 2: Leptodactylidae,Adenomera,AdenomeraHylaedactylus \n",
      " Cluster 3: Hylidae,Hypsiboas,HypsiboasCinerascens \n",
      "Hamming score for iteration 16=0.7777160064859856\n",
      "Hamming loss for iteration 16=0.2222839935140144\n",
      "Majority Triplets for iteration 17: \n",
      " Cluster 0:Leptodactylidae,Adenomera,AdenomeraHylaedactylus \n",
      " Cluster 1: Hylidae,Hypsiboas,HypsiboasCinerascens \n",
      " Cluster 2: Leptodactylidae,Adenomera,AdenomeraAndre \n",
      " Cluster 3: Hylidae,Hypsiboas,HypsiboasCordobae \n",
      "Hamming score for iteration 17=0.7666435024322447\n",
      "Hamming loss for iteration 17=0.23335649756775534\n",
      "Majority Triplets for iteration 18: \n",
      " Cluster 0:Leptodactylidae,Adenomera,AdenomeraHylaedactylus \n",
      " Cluster 1: Hylidae,Hypsiboas,HypsiboasCordobae \n",
      " Cluster 2: Dendrobatidae,Ameerega,Ameeregatrivittata \n",
      " Cluster 3: Hylidae,Hypsiboas,HypsiboasCinerascens \n",
      "Hamming score for iteration 18=0.7775770210794534\n",
      "Hamming loss for iteration 18=0.22242297892054663\n",
      "Majority Triplets for iteration 19: \n",
      " Cluster 0:Hylidae,Hypsiboas,HypsiboasCordobae \n",
      " Cluster 1: Leptodactylidae,Adenomera,AdenomeraHylaedactylus \n",
      " Cluster 2: Hylidae,Hypsiboas,HypsiboasCinerascens \n",
      " Cluster 3: Dendrobatidae,Ameerega,Ameeregatrivittata \n",
      "Hamming score for iteration 19=0.7775770210794534\n",
      "Hamming loss for iteration 19=0.22242297892054663\n",
      "Majority Triplets for iteration 20: \n",
      " Cluster 0:Hylidae,Hypsiboas,HypsiboasCinerascens \n",
      " Cluster 1: Hylidae,Hypsiboas,HypsiboasCordobae \n",
      " Cluster 2: Leptodactylidae,Adenomera,AdenomeraHylaedactylus \n",
      " Cluster 3: Dendrobatidae,Ameerega,Ameeregatrivittata \n",
      "Hamming score for iteration 20=0.7775770210794534\n",
      "Hamming loss for iteration 20=0.22242297892054663\n",
      "Majority Triplets for iteration 21: \n",
      " Cluster 0:Leptodactylidae,Adenomera,AdenomeraHylaedactylus \n",
      " Cluster 1: Leptodactylidae,Adenomera,AdenomeraAndre \n",
      " Cluster 2: Hylidae,Hypsiboas,HypsiboasCinerascens \n",
      " Cluster 3: Hylidae,Hypsiboas,HypsiboasCordobae \n",
      "Hamming score for iteration 21=0.7662728746814917\n",
      "Hamming loss for iteration 21=0.23372712531850826\n",
      "Majority Triplets for iteration 22: \n",
      " Cluster 0:Hylidae,Hypsiboas,HypsiboasCinerascens \n",
      " Cluster 1: Dendrobatidae,Ameerega,Ameeregatrivittata \n",
      " Cluster 2: Hylidae,Hypsiboas,HypsiboasCordobae \n",
      " Cluster 3: Leptodactylidae,Adenomera,AdenomeraHylaedactylus \n",
      "Hamming score for iteration 22=0.7775770210794534\n",
      "Hamming loss for iteration 22=0.22242297892054663\n",
      "Majority Triplets for iteration 23: \n",
      " Cluster 0:Leptodactylidae,Adenomera,AdenomeraAndre \n",
      " Cluster 1: Hylidae,Hypsiboas,HypsiboasCordobae \n",
      " Cluster 2: Hylidae,Hypsiboas,HypsiboasCordobae \n",
      " Cluster 3: Leptodactylidae,Adenomera,AdenomeraHylaedactylus \n",
      "Hamming score for iteration 23=0.7547370859393097\n",
      "Hamming loss for iteration 23=0.24526291406069034\n",
      "Majority Triplets for iteration 24: \n",
      " Cluster 0:Hylidae,Hypsiboas,HypsiboasCordobae \n",
      " Cluster 1: Leptodactylidae,Adenomera,AdenomeraHylaedactylus \n",
      " Cluster 2: Hylidae,Hypsiboas,HypsiboasCinerascens \n",
      " Cluster 3: Leptodactylidae,Adenomera,AdenomeraAndre \n",
      "Hamming score for iteration 24=0.7666435024322447\n",
      "Hamming loss for iteration 24=0.23335649756775534\n"
     ]
    },
    {
     "name": "stdout",
     "output_type": "stream",
     "text": [
      "Majority Triplets for iteration 25: \n",
      " Cluster 0:Leptodactylidae,Adenomera,AdenomeraHylaedactylus \n",
      " Cluster 1: Hylidae,Hypsiboas,HypsiboasCinerascens \n",
      " Cluster 2: Hylidae,Hypsiboas,HypsiboasCordobae \n",
      " Cluster 3: Dendrobatidae,Ameerega,Ameeregatrivittata \n",
      "Hamming score for iteration 25=0.7775770210794534\n",
      "Hamming loss for iteration 25=0.22242297892054663\n",
      "Majority Triplets for iteration 26: \n",
      " Cluster 0:Leptodactylidae,Adenomera,AdenomeraHylaedactylus \n",
      " Cluster 1: Hylidae,Hypsiboas,HypsiboasCordobae \n",
      " Cluster 2: Hylidae,Hypsiboas,HypsiboasCinerascens \n",
      " Cluster 3: Dendrobatidae,Ameerega,Ameeregatrivittata \n",
      "Hamming score for iteration 26=0.7775770210794534\n",
      "Hamming loss for iteration 26=0.22242297892054663\n",
      "Majority Triplets for iteration 27: \n",
      " Cluster 0:Dendrobatidae,Ameerega,Ameeregatrivittata \n",
      " Cluster 1: Hylidae,Hypsiboas,HypsiboasCordobae \n",
      " Cluster 2: Leptodactylidae,Adenomera,AdenomeraHylaedactylus \n",
      " Cluster 3: Hylidae,Hypsiboas,HypsiboasCinerascens \n",
      "Hamming score for iteration 27=0.7775770210794534\n",
      "Hamming loss for iteration 27=0.22242297892054663\n",
      "Majority Triplets for iteration 28: \n",
      " Cluster 0:Leptodactylidae,Adenomera,AdenomeraHylaedactylus \n",
      " Cluster 1: Hylidae,Hypsiboas,HypsiboasCordobae \n",
      " Cluster 2: Dendrobatidae,Ameerega,Ameeregatrivittata \n",
      " Cluster 3: Hylidae,Hypsiboas,HypsiboasCinerascens \n",
      "Hamming score for iteration 28=0.7775306926106093\n",
      "Hamming loss for iteration 28=0.22246930738939075\n",
      "Majority Triplets for iteration 29: \n",
      " Cluster 0:Hylidae,Hypsiboas,HypsiboasCordobae \n",
      " Cluster 1: Leptodactylidae,Adenomera,AdenomeraAndre \n",
      " Cluster 2: Hylidae,Hypsiboas,HypsiboasCordobae \n",
      " Cluster 3: Leptodactylidae,Adenomera,AdenomeraHylaedactylus \n",
      "Hamming score for iteration 29=0.754876071345842\n",
      "Hamming loss for iteration 29=0.245123928654158\n",
      "Majority Triplets for iteration 30: \n",
      " Cluster 0:Leptodactylidae,Adenomera,AdenomeraHylaedactylus \n",
      " Cluster 1: Dendrobatidae,Ameerega,Ameeregatrivittata \n",
      " Cluster 2: Hylidae,Hypsiboas,HypsiboasCordobae \n",
      " Cluster 3: Hylidae,Hypsiboas,HypsiboasCinerascens \n",
      "Hamming score for iteration 30=0.7775770210794534\n",
      "Hamming loss for iteration 30=0.22242297892054663\n",
      "Majority Triplets for iteration 31: \n",
      " Cluster 0:Hylidae,Hypsiboas,HypsiboasCordobae \n",
      " Cluster 1: Dendrobatidae,Ameerega,Ameeregatrivittata \n",
      " Cluster 2: Hylidae,Hypsiboas,HypsiboasCinerascens \n",
      " Cluster 3: Leptodactylidae,Adenomera,AdenomeraHylaedactylus \n",
      "Hamming score for iteration 31=0.7775306926106093\n",
      "Hamming loss for iteration 31=0.22246930738939075\n",
      "Majority Triplets for iteration 32: \n",
      " Cluster 0:Hylidae,Hypsiboas,HypsiboasCordobae \n",
      " Cluster 1: Dendrobatidae,Ameerega,Ameeregatrivittata \n",
      " Cluster 2: Hylidae,Hypsiboas,HypsiboasCinerascens \n",
      " Cluster 3: Leptodactylidae,Adenomera,AdenomeraHylaedactylus \n",
      "Hamming score for iteration 32=0.7775306926106093\n",
      "Hamming loss for iteration 32=0.22246930738939075\n",
      "Majority Triplets for iteration 33: \n",
      " Cluster 0:Dendrobatidae,Ameerega,Ameeregatrivittata \n",
      " Cluster 1: Hylidae,Hypsiboas,HypsiboasCordobae \n",
      " Cluster 2: Leptodactylidae,Adenomera,AdenomeraHylaedactylus \n",
      " Cluster 3: Hylidae,Hypsiboas,HypsiboasCinerascens \n",
      "Hamming score for iteration 33=0.7775306926106093\n",
      "Hamming loss for iteration 33=0.22246930738939075\n",
      "Majority Triplets for iteration 34: \n",
      " Cluster 0:Hylidae,Hypsiboas,HypsiboasCordobae \n",
      " Cluster 1: Leptodactylidae,Adenomera,AdenomeraHylaedactylus \n",
      " Cluster 2: Hylidae,Hypsiboas,HypsiboasCinerascens \n",
      " Cluster 3: Dendrobatidae,Ameerega,Ameeregatrivittata \n",
      "Hamming score for iteration 34=0.7775770210794534\n",
      "Hamming loss for iteration 34=0.22242297892054663\n",
      "Majority Triplets for iteration 35: \n",
      " Cluster 0:Leptodactylidae,Adenomera,AdenomeraHylaedactylus \n",
      " Cluster 1: Hylidae,Hypsiboas,HypsiboasCordobae \n",
      " Cluster 2: Hylidae,Hypsiboas,HypsiboasCinerascens \n",
      " Cluster 3: Dendrobatidae,Ameerega,Ameeregatrivittata \n",
      "Hamming score for iteration 35=0.7777160064859856\n",
      "Hamming loss for iteration 35=0.2222839935140144\n",
      "Majority Triplets for iteration 36: \n",
      " Cluster 0:Hylidae,Hypsiboas,HypsiboasCinerascens \n",
      " Cluster 1: Leptodactylidae,Adenomera,AdenomeraHylaedactylus \n",
      " Cluster 2: Dendrobatidae,Ameerega,Ameeregatrivittata \n",
      " Cluster 3: Hylidae,Hypsiboas,HypsiboasCordobae \n",
      "Hamming score for iteration 36=0.7775770210794534\n",
      "Hamming loss for iteration 36=0.22242297892054663\n",
      "Majority Triplets for iteration 37: \n",
      " Cluster 0:Hylidae,Hypsiboas,HypsiboasCordobae \n",
      " Cluster 1: Hylidae,Hypsiboas,HypsiboasCinerascens \n",
      " Cluster 2: Dendrobatidae,Ameerega,Ameeregatrivittata \n",
      " Cluster 3: Leptodactylidae,Adenomera,AdenomeraHylaedactylus \n",
      "Hamming score for iteration 37=0.7779476488302062\n",
      "Hamming loss for iteration 37=0.22205235116979383\n",
      "Majority Triplets for iteration 38: \n",
      " Cluster 0:Dendrobatidae,Ameerega,Ameeregatrivittata \n",
      " Cluster 1: Hylidae,Hypsiboas,HypsiboasCordobae \n",
      " Cluster 2: Leptodactylidae,Adenomera,AdenomeraHylaedactylus \n",
      " Cluster 3: Hylidae,Hypsiboas,HypsiboasCinerascens \n",
      "Hamming score for iteration 38=0.7775770210794534\n",
      "Hamming loss for iteration 38=0.22242297892054663\n",
      "Majority Triplets for iteration 39: \n",
      " Cluster 0:Leptodactylidae,Adenomera,AdenomeraHylaedactylus \n",
      " Cluster 1: Hylidae,Hypsiboas,HypsiboasCinerascens \n",
      " Cluster 2: Dendrobatidae,Ameerega,Ameeregatrivittata \n",
      " Cluster 3: Hylidae,Hypsiboas,HypsiboasCordobae \n",
      "Hamming score for iteration 39=0.7775770210794534\n",
      "Hamming loss for iteration 39=0.22242297892054663\n",
      "Majority Triplets for iteration 40: \n",
      " Cluster 0:Hylidae,Hypsiboas,HypsiboasCinerascens \n",
      " Cluster 1: Dendrobatidae,Ameerega,Ameeregatrivittata \n",
      " Cluster 2: Hylidae,Hypsiboas,HypsiboasCordobae \n",
      " Cluster 3: Leptodactylidae,Adenomera,AdenomeraHylaedactylus \n",
      "Hamming score for iteration 40=0.7777160064859856\n",
      "Hamming loss for iteration 40=0.2222839935140144\n",
      "Majority Triplets for iteration 41: \n",
      " Cluster 0:Leptodactylidae,Adenomera,AdenomeraHylaedactylus \n",
      " Cluster 1: Dendrobatidae,Ameerega,Ameeregatrivittata \n",
      " Cluster 2: Hylidae,Hypsiboas,HypsiboasCordobae \n",
      " Cluster 3: Hylidae,Hypsiboas,HypsiboasCinerascens \n",
      "Hamming score for iteration 41=0.7775770210794534\n",
      "Hamming loss for iteration 41=0.22242297892054663\n",
      "Majority Triplets for iteration 42: \n",
      " Cluster 0:Hylidae,Hypsiboas,HypsiboasCordobae \n",
      " Cluster 1: Hylidae,Hypsiboas,HypsiboasCordobae \n",
      " Cluster 2: Leptodactylidae,Adenomera,AdenomeraHylaedactylus \n",
      " Cluster 3: Leptodactylidae,Adenomera,AdenomeraAndre \n",
      "Hamming score for iteration 42=0.754876071345842\n",
      "Hamming loss for iteration 42=0.245123928654158\n",
      "Majority Triplets for iteration 43: \n",
      " Cluster 0:Hylidae,Hypsiboas,HypsiboasCordobae \n",
      " Cluster 1: Leptodactylidae,Adenomera,AdenomeraHylaedactylus \n",
      " Cluster 2: Dendrobatidae,Ameerega,Ameeregatrivittata \n",
      " Cluster 3: Hylidae,Hypsiboas,HypsiboasCinerascens \n",
      "Hamming score for iteration 43=0.7775770210794534\n",
      "Hamming loss for iteration 43=0.22242297892054663\n",
      "Majority Triplets for iteration 44: \n",
      " Cluster 0:Hylidae,Hypsiboas,HypsiboasCordobae \n",
      " Cluster 1: Leptodactylidae,Adenomera,AdenomeraAndre \n",
      " Cluster 2: Hylidae,Hypsiboas,HypsiboasCordobae \n",
      " Cluster 3: Leptodactylidae,Adenomera,AdenomeraHylaedactylus \n",
      "Hamming score for iteration 44=0.7547370859393097\n",
      "Hamming loss for iteration 44=0.24526291406069034\n",
      "Majority Triplets for iteration 45: \n",
      " Cluster 0:Dendrobatidae,Ameerega,Ameeregatrivittata \n",
      " Cluster 1: Hylidae,Hypsiboas,HypsiboasCordobae \n",
      " Cluster 2: Leptodactylidae,Adenomera,AdenomeraHylaedactylus \n",
      " Cluster 3: Hylidae,Hypsiboas,HypsiboasCinerascens \n",
      "Hamming score for iteration 45=0.7775306926106093\n",
      "Hamming loss for iteration 45=0.22246930738939075\n",
      "Majority Triplets for iteration 46: \n",
      " Cluster 0:Dendrobatidae,Ameerega,Ameeregatrivittata \n",
      " Cluster 1: Hylidae,Hypsiboas,HypsiboasCinerascens \n",
      " Cluster 2: Leptodactylidae,Adenomera,AdenomeraHylaedactylus \n",
      " Cluster 3: Hylidae,Hypsiboas,HypsiboasCordobae \n",
      "Hamming score for iteration 46=0.7775770210794534\n",
      "Hamming loss for iteration 46=0.22242297892054663\n",
      "Majority Triplets for iteration 47: \n",
      " Cluster 0:Hylidae,Hypsiboas,HypsiboasCinerascens \n",
      " Cluster 1: Dendrobatidae,Ameerega,Ameeregatrivittata \n",
      " Cluster 2: Hylidae,Hypsiboas,HypsiboasCordobae \n",
      " Cluster 3: Leptodactylidae,Adenomera,AdenomeraHylaedactylus \n",
      "Hamming score for iteration 47=0.7775770210794534\n",
      "Hamming loss for iteration 47=0.22242297892054663\n",
      "Majority Triplets for iteration 48: \n",
      " Cluster 0:Hylidae,Hypsiboas,HypsiboasCordobae \n",
      " Cluster 1: Leptodactylidae,Adenomera,AdenomeraHylaedactylus \n",
      " Cluster 2: Dendrobatidae,Ameerega,Ameeregatrivittata \n",
      " Cluster 3: Hylidae,Hypsiboas,HypsiboasCinerascens \n",
      "Hamming score for iteration 48=0.7779476488302062\n",
      "Hamming loss for iteration 48=0.22205235116979383\n"
     ]
    },
    {
     "name": "stdout",
     "output_type": "stream",
     "text": [
      "Majority Triplets for iteration 49: \n",
      " Cluster 0:Hylidae,Hypsiboas,HypsiboasCordobae \n",
      " Cluster 1: Leptodactylidae,Adenomera,AdenomeraHylaedactylus \n",
      " Cluster 2: Dendrobatidae,Ameerega,Ameeregatrivittata \n",
      " Cluster 3: Hylidae,Hypsiboas,HypsiboasCinerascens \n",
      "Hamming score for iteration 49=0.7780866342367385\n",
      "Hamming loss for iteration 49=0.22191336576326148\n",
      "Majority Triplets for iteration 50: \n",
      " Cluster 0:Hylidae,Hypsiboas,HypsiboasCordobae \n",
      " Cluster 1: Dendrobatidae,Ameerega,Ameeregatrivittata \n",
      " Cluster 2: Hylidae,Hypsiboas,HypsiboasCinerascens \n",
      " Cluster 3: Leptodactylidae,Adenomera,AdenomeraHylaedactylus \n",
      "Hamming score for iteration 50=0.7775770210794534\n",
      "Hamming loss for iteration 50=0.22242297892054663\n"
     ]
    }
   ],
   "source": [
    "i =1\n",
    "list_hammin=[]\n",
    "list_loss=[]\n",
    "for k in list1:\n",
    "    k_means=KMeans(n_clusters=k,init='random')\n",
    "    model=k_means.fit(data_x)\n",
    "    df_1 = pd.DataFrame()\n",
    "    df_1['Index'] = df_k.index.values\n",
    "    df_1['Cluster'] = model.labels_\n",
    "    temp= df_1[df_1['Cluster']==0]['Index'].values    \n",
    "    temp1=  df_1[df_1['Cluster']==1]['Index'].values\n",
    "    temp2=  df_1[df_1['Cluster']==2]['Index'].values\n",
    "    temp3=  df_1[df_1['Cluster']==3]['Index'].values\n",
    "    \n",
    "    f0=df_k.iloc[temp]['Family'].value_counts().idxmax()\n",
    "    f1=df_k.iloc[temp1]['Family'].value_counts().idxmax()\n",
    "    f2=df_k.iloc[temp2]['Family'].value_counts().idxmax()\n",
    "    f3=df_k.iloc[temp3]['Family'].value_counts().idxmax()\n",
    "    g0=df_k.iloc[temp]['Genus'].value_counts().idxmax()\n",
    "    g1=df_k.iloc[temp1]['Genus'].value_counts().idxmax()\n",
    "    g2=df_k.iloc[temp2]['Genus'].value_counts().idxmax()\n",
    "    g3=df_k.iloc[temp3]['Genus'].value_counts().idxmax()\n",
    "    s0=df_k.iloc[temp]['Species'].value_counts().idxmax()\n",
    "    s1=df_k.iloc[temp1]['Species'].value_counts().idxmax()\n",
    "    s2=df_k.iloc[temp2]['Species'].value_counts().idxmax()\n",
    "    s3=df_k.iloc[temp3]['Species'].value_counts().idxmax()   \n",
    "    \n",
    "    print(\"Majority Triplets for iteration {}: \\n Cluster 0:{},{},{} \\n Cluster 1: {},{},{} \\n Cluster 2: {},{},{} \\n Cluster 3: {},{},{} \".format(i,f0,g0,s0,f1,g1,s1,f2,g2,s2,f3,g3,s3))\n",
    "    df_2=pd.DataFrame()\n",
    "    df_3=df_k.append(df_2)\n",
    "    df_3.loc[temp,'Family']=df_k.iloc[temp]['Family'].value_counts().idxmax()\n",
    "    df_3.loc[temp1,'Family']=df_k.iloc[temp1]['Family'].value_counts().idxmax()\n",
    "    df_3.loc[temp2,'Family']=df_k.iloc[temp2]['Family'].value_counts().idxmax()\n",
    "    df_3.loc[temp3,'Family']=df_k.iloc[temp3]['Family'].value_counts().idxmax()\n",
    "    df_3.loc[temp,'Genus']=df_k.iloc[temp]['Genus'].value_counts().idxmax()\n",
    "    df_3.loc[temp1,'Genus']=df_k.iloc[temp1]['Genus'].value_counts().idxmax()\n",
    "    df_3.loc[temp2,'Genus']=df_k.iloc[temp2]['Genus'].value_counts().idxmax()\n",
    "    df_3.loc[temp3,'Genus']=df_k.iloc[temp3]['Genus'].value_counts().idxmax()\n",
    "    df_3.loc[temp,'Species']=df_k.iloc[temp]['Species'].value_counts().idxmax()\n",
    "    df_3.loc[temp1,'Species']=df_k.iloc[temp1]['Species'].value_counts().idxmax()\n",
    "    df_3.loc[temp2,'Species']=df_k.iloc[temp2]['Species'].value_counts().idxmax()\n",
    "    df_3.loc[temp3,'Species']=df_k.iloc[temp3]['Species'].value_counts().idxmax()\n",
    "    label_true1=df_k['Family']\n",
    "    label_true2=df_k['Genus']\n",
    "    label_true3=df_k['Species']\n",
    "    label_pred1=df_3['Family']\n",
    "    label_pred2=df_3['Genus']\n",
    "    label_pred3=df_3['Species']\n",
    "    pred_values=np.array(list(zip(label_pred1,label_pred2,label_pred3)))\n",
    "    true_values=np.array(list(zip(label_true1,label_true2,label_true3)))\n",
    "    hammin_sc=np.mean(pred_values==true_values) \n",
    "    hammin_loss=1-hammin_sc\n",
    "    print(\"Hamming score for iteration {}={}\".format(i,hammin_sc))\n",
    "    print(\"Hamming loss for iteration {}={}\".format(i,hammin_loss))\n",
    "    list_loss.append(hammin_loss)\n",
    "    list_hammin.append(hammin_sc)\n",
    "    i+=1"
   ]
  },
  {
   "cell_type": "markdown",
   "metadata": {},
   "source": [
    "Replacing values based on index reference from https://stackoverflow.com/questions/37725195/pandas-replace-values-based-on-index\n",
    "\n",
    "Hamming Distance reference from https://en.wikipedia.org/wiki/Hamming_distance"
   ]
  },
  {
   "cell_type": "code",
   "execution_count": 251,
   "metadata": {},
   "outputs": [
    {
     "name": "stdout",
     "output_type": "stream",
     "text": [
      "Average Hamming Score of 50 iterations 0.7725855918461895\n",
      "Average Hamming Distance of 50 iterations 0.22741440815381053\n",
      "Standard Deviation of Hamming Distance of 50 iterations 0.008992983804757201\n"
     ]
    }
   ],
   "source": [
    "print(\"Average Hamming Score of 50 iterations\",np.mean(list_hammin))\n",
    "print(\"Average Hamming Distance of 50 iterations\",np.mean(list_loss))\n",
    "print(\"Standard Deviation of Hamming Distance of 50 iterations\",np.std(list_loss))"
   ]
  }
 ],
 "metadata": {
  "kernelspec": {
   "display_name": "Python 3",
   "language": "python",
   "name": "python3"
  },
  "language_info": {
   "codemirror_mode": {
    "name": "ipython",
    "version": 3
   },
   "file_extension": ".py",
   "mimetype": "text/x-python",
   "name": "python",
   "nbconvert_exporter": "python",
   "pygments_lexer": "ipython3",
   "version": "3.7.3"
  }
 },
 "nbformat": 4,
 "nbformat_minor": 2
}
